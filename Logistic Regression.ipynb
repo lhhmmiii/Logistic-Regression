{
 "cells": [
  {
   "cell_type": "markdown",
   "id": "611ca854",
   "metadata": {},
   "source": [
    "## 1. Import Thư viện"
   ]
  },
  {
   "cell_type": "code",
   "execution_count": 2,
   "id": "33a0444c",
   "metadata": {},
   "outputs": [],
   "source": [
    "import numpy as np\n",
    "import pandas as pd\n",
    "import matplotlib.pyplot as plt\n",
    "import seaborn as sns"
   ]
  },
  {
   "cell_type": "markdown",
   "id": "bb1af419",
   "metadata": {},
   "source": [
    "## 2. Load Iris Data"
   ]
  },
  {
   "cell_type": "code",
   "execution_count": 10,
   "id": "400f50f4",
   "metadata": {},
   "outputs": [],
   "source": [
    "from sklearn.datasets import load_iris\n",
    "iris = load_iris()"
   ]
  },
  {
   "cell_type": "markdown",
   "id": "41a8f85e",
   "metadata": {},
   "source": [
    "Khi ta load dataset iris từ thư viện sklearn thì ta sẽ được 4 phần:\n",
    "- iris.data: dữ liệu\n",
    "- iris.feature_names: tên 4 cột dữ liệu\n",
    "- iris.target_names: tên các giá trị của biến đầu ra\n",
    "- iris.target: giá trị đầu ra quy đổi ra số: 0,1,2"
   ]
  },
  {
   "cell_type": "code",
   "execution_count": 4,
   "id": "6c369224",
   "metadata": {},
   "outputs": [
    {
     "data": {
      "text/plain": [
       "array([[5.1, 3.5, 1.4, 0.2],\n",
       "       [4.9, 3. , 1.4, 0.2],\n",
       "       [4.7, 3.2, 1.3, 0.2],\n",
       "       [4.6, 3.1, 1.5, 0.2],\n",
       "       [5. , 3.6, 1.4, 0.2],\n",
       "       [5.4, 3.9, 1.7, 0.4],\n",
       "       [4.6, 3.4, 1.4, 0.3],\n",
       "       [5. , 3.4, 1.5, 0.2],\n",
       "       [4.4, 2.9, 1.4, 0.2],\n",
       "       [4.9, 3.1, 1.5, 0.1],\n",
       "       [5.4, 3.7, 1.5, 0.2],\n",
       "       [4.8, 3.4, 1.6, 0.2],\n",
       "       [4.8, 3. , 1.4, 0.1],\n",
       "       [4.3, 3. , 1.1, 0.1],\n",
       "       [5.8, 4. , 1.2, 0.2],\n",
       "       [5.7, 4.4, 1.5, 0.4],\n",
       "       [5.4, 3.9, 1.3, 0.4],\n",
       "       [5.1, 3.5, 1.4, 0.3],\n",
       "       [5.7, 3.8, 1.7, 0.3],\n",
       "       [5.1, 3.8, 1.5, 0.3],\n",
       "       [5.4, 3.4, 1.7, 0.2],\n",
       "       [5.1, 3.7, 1.5, 0.4],\n",
       "       [4.6, 3.6, 1. , 0.2],\n",
       "       [5.1, 3.3, 1.7, 0.5],\n",
       "       [4.8, 3.4, 1.9, 0.2],\n",
       "       [5. , 3. , 1.6, 0.2],\n",
       "       [5. , 3.4, 1.6, 0.4],\n",
       "       [5.2, 3.5, 1.5, 0.2],\n",
       "       [5.2, 3.4, 1.4, 0.2],\n",
       "       [4.7, 3.2, 1.6, 0.2],\n",
       "       [4.8, 3.1, 1.6, 0.2],\n",
       "       [5.4, 3.4, 1.5, 0.4],\n",
       "       [5.2, 4.1, 1.5, 0.1],\n",
       "       [5.5, 4.2, 1.4, 0.2],\n",
       "       [4.9, 3.1, 1.5, 0.2],\n",
       "       [5. , 3.2, 1.2, 0.2],\n",
       "       [5.5, 3.5, 1.3, 0.2],\n",
       "       [4.9, 3.6, 1.4, 0.1],\n",
       "       [4.4, 3. , 1.3, 0.2],\n",
       "       [5.1, 3.4, 1.5, 0.2],\n",
       "       [5. , 3.5, 1.3, 0.3],\n",
       "       [4.5, 2.3, 1.3, 0.3],\n",
       "       [4.4, 3.2, 1.3, 0.2],\n",
       "       [5. , 3.5, 1.6, 0.6],\n",
       "       [5.1, 3.8, 1.9, 0.4],\n",
       "       [4.8, 3. , 1.4, 0.3],\n",
       "       [5.1, 3.8, 1.6, 0.2],\n",
       "       [4.6, 3.2, 1.4, 0.2],\n",
       "       [5.3, 3.7, 1.5, 0.2],\n",
       "       [5. , 3.3, 1.4, 0.2],\n",
       "       [7. , 3.2, 4.7, 1.4],\n",
       "       [6.4, 3.2, 4.5, 1.5],\n",
       "       [6.9, 3.1, 4.9, 1.5],\n",
       "       [5.5, 2.3, 4. , 1.3],\n",
       "       [6.5, 2.8, 4.6, 1.5],\n",
       "       [5.7, 2.8, 4.5, 1.3],\n",
       "       [6.3, 3.3, 4.7, 1.6],\n",
       "       [4.9, 2.4, 3.3, 1. ],\n",
       "       [6.6, 2.9, 4.6, 1.3],\n",
       "       [5.2, 2.7, 3.9, 1.4],\n",
       "       [5. , 2. , 3.5, 1. ],\n",
       "       [5.9, 3. , 4.2, 1.5],\n",
       "       [6. , 2.2, 4. , 1. ],\n",
       "       [6.1, 2.9, 4.7, 1.4],\n",
       "       [5.6, 2.9, 3.6, 1.3],\n",
       "       [6.7, 3.1, 4.4, 1.4],\n",
       "       [5.6, 3. , 4.5, 1.5],\n",
       "       [5.8, 2.7, 4.1, 1. ],\n",
       "       [6.2, 2.2, 4.5, 1.5],\n",
       "       [5.6, 2.5, 3.9, 1.1],\n",
       "       [5.9, 3.2, 4.8, 1.8],\n",
       "       [6.1, 2.8, 4. , 1.3],\n",
       "       [6.3, 2.5, 4.9, 1.5],\n",
       "       [6.1, 2.8, 4.7, 1.2],\n",
       "       [6.4, 2.9, 4.3, 1.3],\n",
       "       [6.6, 3. , 4.4, 1.4],\n",
       "       [6.8, 2.8, 4.8, 1.4],\n",
       "       [6.7, 3. , 5. , 1.7],\n",
       "       [6. , 2.9, 4.5, 1.5],\n",
       "       [5.7, 2.6, 3.5, 1. ],\n",
       "       [5.5, 2.4, 3.8, 1.1],\n",
       "       [5.5, 2.4, 3.7, 1. ],\n",
       "       [5.8, 2.7, 3.9, 1.2],\n",
       "       [6. , 2.7, 5.1, 1.6],\n",
       "       [5.4, 3. , 4.5, 1.5],\n",
       "       [6. , 3.4, 4.5, 1.6],\n",
       "       [6.7, 3.1, 4.7, 1.5],\n",
       "       [6.3, 2.3, 4.4, 1.3],\n",
       "       [5.6, 3. , 4.1, 1.3],\n",
       "       [5.5, 2.5, 4. , 1.3],\n",
       "       [5.5, 2.6, 4.4, 1.2],\n",
       "       [6.1, 3. , 4.6, 1.4],\n",
       "       [5.8, 2.6, 4. , 1.2],\n",
       "       [5. , 2.3, 3.3, 1. ],\n",
       "       [5.6, 2.7, 4.2, 1.3],\n",
       "       [5.7, 3. , 4.2, 1.2],\n",
       "       [5.7, 2.9, 4.2, 1.3],\n",
       "       [6.2, 2.9, 4.3, 1.3],\n",
       "       [5.1, 2.5, 3. , 1.1],\n",
       "       [5.7, 2.8, 4.1, 1.3],\n",
       "       [6.3, 3.3, 6. , 2.5],\n",
       "       [5.8, 2.7, 5.1, 1.9],\n",
       "       [7.1, 3. , 5.9, 2.1],\n",
       "       [6.3, 2.9, 5.6, 1.8],\n",
       "       [6.5, 3. , 5.8, 2.2],\n",
       "       [7.6, 3. , 6.6, 2.1],\n",
       "       [4.9, 2.5, 4.5, 1.7],\n",
       "       [7.3, 2.9, 6.3, 1.8],\n",
       "       [6.7, 2.5, 5.8, 1.8],\n",
       "       [7.2, 3.6, 6.1, 2.5],\n",
       "       [6.5, 3.2, 5.1, 2. ],\n",
       "       [6.4, 2.7, 5.3, 1.9],\n",
       "       [6.8, 3. , 5.5, 2.1],\n",
       "       [5.7, 2.5, 5. , 2. ],\n",
       "       [5.8, 2.8, 5.1, 2.4],\n",
       "       [6.4, 3.2, 5.3, 2.3],\n",
       "       [6.5, 3. , 5.5, 1.8],\n",
       "       [7.7, 3.8, 6.7, 2.2],\n",
       "       [7.7, 2.6, 6.9, 2.3],\n",
       "       [6. , 2.2, 5. , 1.5],\n",
       "       [6.9, 3.2, 5.7, 2.3],\n",
       "       [5.6, 2.8, 4.9, 2. ],\n",
       "       [7.7, 2.8, 6.7, 2. ],\n",
       "       [6.3, 2.7, 4.9, 1.8],\n",
       "       [6.7, 3.3, 5.7, 2.1],\n",
       "       [7.2, 3.2, 6. , 1.8],\n",
       "       [6.2, 2.8, 4.8, 1.8],\n",
       "       [6.1, 3. , 4.9, 1.8],\n",
       "       [6.4, 2.8, 5.6, 2.1],\n",
       "       [7.2, 3. , 5.8, 1.6],\n",
       "       [7.4, 2.8, 6.1, 1.9],\n",
       "       [7.9, 3.8, 6.4, 2. ],\n",
       "       [6.4, 2.8, 5.6, 2.2],\n",
       "       [6.3, 2.8, 5.1, 1.5],\n",
       "       [6.1, 2.6, 5.6, 1.4],\n",
       "       [7.7, 3. , 6.1, 2.3],\n",
       "       [6.3, 3.4, 5.6, 2.4],\n",
       "       [6.4, 3.1, 5.5, 1.8],\n",
       "       [6. , 3. , 4.8, 1.8],\n",
       "       [6.9, 3.1, 5.4, 2.1],\n",
       "       [6.7, 3.1, 5.6, 2.4],\n",
       "       [6.9, 3.1, 5.1, 2.3],\n",
       "       [5.8, 2.7, 5.1, 1.9],\n",
       "       [6.8, 3.2, 5.9, 2.3],\n",
       "       [6.7, 3.3, 5.7, 2.5],\n",
       "       [6.7, 3. , 5.2, 2.3],\n",
       "       [6.3, 2.5, 5. , 1.9],\n",
       "       [6.5, 3. , 5.2, 2. ],\n",
       "       [6.2, 3.4, 5.4, 2.3],\n",
       "       [5.9, 3. , 5.1, 1.8]])"
      ]
     },
     "execution_count": 4,
     "metadata": {},
     "output_type": "execute_result"
    }
   ],
   "source": [
    "iris.data"
   ]
  },
  {
   "cell_type": "code",
   "execution_count": 5,
   "id": "f8bd38fa",
   "metadata": {},
   "outputs": [
    {
     "data": {
      "text/plain": [
       "['sepal length (cm)',\n",
       " 'sepal width (cm)',\n",
       " 'petal length (cm)',\n",
       " 'petal width (cm)']"
      ]
     },
     "execution_count": 5,
     "metadata": {},
     "output_type": "execute_result"
    }
   ],
   "source": [
    "iris.feature_names"
   ]
  },
  {
   "cell_type": "code",
   "execution_count": 6,
   "id": "c16bbef7",
   "metadata": {},
   "outputs": [
    {
     "data": {
      "text/plain": [
       "array([0, 0, 0, 0, 0, 0, 0, 0, 0, 0, 0, 0, 0, 0, 0, 0, 0, 0, 0, 0, 0, 0,\n",
       "       0, 0, 0, 0, 0, 0, 0, 0, 0, 0, 0, 0, 0, 0, 0, 0, 0, 0, 0, 0, 0, 0,\n",
       "       0, 0, 0, 0, 0, 0, 1, 1, 1, 1, 1, 1, 1, 1, 1, 1, 1, 1, 1, 1, 1, 1,\n",
       "       1, 1, 1, 1, 1, 1, 1, 1, 1, 1, 1, 1, 1, 1, 1, 1, 1, 1, 1, 1, 1, 1,\n",
       "       1, 1, 1, 1, 1, 1, 1, 1, 1, 1, 1, 1, 2, 2, 2, 2, 2, 2, 2, 2, 2, 2,\n",
       "       2, 2, 2, 2, 2, 2, 2, 2, 2, 2, 2, 2, 2, 2, 2, 2, 2, 2, 2, 2, 2, 2,\n",
       "       2, 2, 2, 2, 2, 2, 2, 2, 2, 2, 2, 2, 2, 2, 2, 2, 2, 2])"
      ]
     },
     "execution_count": 6,
     "metadata": {},
     "output_type": "execute_result"
    }
   ],
   "source": [
    "iris.target"
   ]
  },
  {
   "cell_type": "code",
   "execution_count": 7,
   "id": "efc53504",
   "metadata": {},
   "outputs": [
    {
     "data": {
      "text/plain": [
       "array(['setosa', 'versicolor', 'virginica'], dtype='<U10')"
      ]
     },
     "execution_count": 7,
     "metadata": {},
     "output_type": "execute_result"
    }
   ],
   "source": [
    "iris.target_names"
   ]
  },
  {
   "cell_type": "markdown",
   "id": "f299c8e7",
   "metadata": {},
   "source": [
    "Ta sẽ dùng thư viện pandas để ghép các dữ liệu này lại với nhau để dễ dàng phân tích dữ liệu:"
   ]
  },
  {
   "cell_type": "code",
   "execution_count": 25,
   "id": "d03d7c33",
   "metadata": {},
   "outputs": [],
   "source": [
    "data1=np.zeros((iris.data.shape[0],5))\n",
    "for i in range(len(data_X)):\n",
    "    data1[i]=np.append(iris.data[i],iris.target[i])\n",
    "data2=np.append(iris.feature_names,'y')\n",
    "df=pd.DataFrame(data_X,columns=data2)"
   ]
  },
  {
   "cell_type": "markdown",
   "id": "bcefc014",
   "metadata": {},
   "source": [
    "Vì mô hình logistic regression ước lượng xác suất giá trị đầu ra thuộc 2 lớp(0 hoặc 1) nên ta sẽ tiến hành cắt đi phân dữ liệu có iris.target=2."
   ]
  },
  {
   "cell_type": "code",
   "execution_count": 26,
   "id": "8c112044",
   "metadata": {},
   "outputs": [
    {
     "data": {
      "text/html": [
       "<div>\n",
       "<style scoped>\n",
       "    .dataframe tbody tr th:only-of-type {\n",
       "        vertical-align: middle;\n",
       "    }\n",
       "\n",
       "    .dataframe tbody tr th {\n",
       "        vertical-align: top;\n",
       "    }\n",
       "\n",
       "    .dataframe thead th {\n",
       "        text-align: right;\n",
       "    }\n",
       "</style>\n",
       "<table border=\"1\" class=\"dataframe\">\n",
       "  <thead>\n",
       "    <tr style=\"text-align: right;\">\n",
       "      <th></th>\n",
       "      <th>sepal length (cm)</th>\n",
       "      <th>sepal width (cm)</th>\n",
       "      <th>petal length (cm)</th>\n",
       "      <th>petal width (cm)</th>\n",
       "      <th>y</th>\n",
       "    </tr>\n",
       "  </thead>\n",
       "  <tbody>\n",
       "    <tr>\n",
       "      <th>0</th>\n",
       "      <td>5.1</td>\n",
       "      <td>3.5</td>\n",
       "      <td>1.4</td>\n",
       "      <td>0.2</td>\n",
       "      <td>0.0</td>\n",
       "    </tr>\n",
       "    <tr>\n",
       "      <th>1</th>\n",
       "      <td>4.9</td>\n",
       "      <td>3.0</td>\n",
       "      <td>1.4</td>\n",
       "      <td>0.2</td>\n",
       "      <td>0.0</td>\n",
       "    </tr>\n",
       "    <tr>\n",
       "      <th>2</th>\n",
       "      <td>4.7</td>\n",
       "      <td>3.2</td>\n",
       "      <td>1.3</td>\n",
       "      <td>0.2</td>\n",
       "      <td>0.0</td>\n",
       "    </tr>\n",
       "    <tr>\n",
       "      <th>3</th>\n",
       "      <td>4.6</td>\n",
       "      <td>3.1</td>\n",
       "      <td>1.5</td>\n",
       "      <td>0.2</td>\n",
       "      <td>0.0</td>\n",
       "    </tr>\n",
       "    <tr>\n",
       "      <th>4</th>\n",
       "      <td>5.0</td>\n",
       "      <td>3.6</td>\n",
       "      <td>1.4</td>\n",
       "      <td>0.2</td>\n",
       "      <td>0.0</td>\n",
       "    </tr>\n",
       "    <tr>\n",
       "      <th>...</th>\n",
       "      <td>...</td>\n",
       "      <td>...</td>\n",
       "      <td>...</td>\n",
       "      <td>...</td>\n",
       "      <td>...</td>\n",
       "    </tr>\n",
       "    <tr>\n",
       "      <th>95</th>\n",
       "      <td>5.7</td>\n",
       "      <td>3.0</td>\n",
       "      <td>4.2</td>\n",
       "      <td>1.2</td>\n",
       "      <td>1.0</td>\n",
       "    </tr>\n",
       "    <tr>\n",
       "      <th>96</th>\n",
       "      <td>5.7</td>\n",
       "      <td>2.9</td>\n",
       "      <td>4.2</td>\n",
       "      <td>1.3</td>\n",
       "      <td>1.0</td>\n",
       "    </tr>\n",
       "    <tr>\n",
       "      <th>97</th>\n",
       "      <td>6.2</td>\n",
       "      <td>2.9</td>\n",
       "      <td>4.3</td>\n",
       "      <td>1.3</td>\n",
       "      <td>1.0</td>\n",
       "    </tr>\n",
       "    <tr>\n",
       "      <th>98</th>\n",
       "      <td>5.1</td>\n",
       "      <td>2.5</td>\n",
       "      <td>3.0</td>\n",
       "      <td>1.1</td>\n",
       "      <td>1.0</td>\n",
       "    </tr>\n",
       "    <tr>\n",
       "      <th>99</th>\n",
       "      <td>5.7</td>\n",
       "      <td>2.8</td>\n",
       "      <td>4.1</td>\n",
       "      <td>1.3</td>\n",
       "      <td>1.0</td>\n",
       "    </tr>\n",
       "  </tbody>\n",
       "</table>\n",
       "<p>100 rows × 5 columns</p>\n",
       "</div>"
      ],
      "text/plain": [
       "    sepal length (cm)  sepal width (cm)  petal length (cm)  petal width (cm)  \\\n",
       "0                 5.1               3.5                1.4               0.2   \n",
       "1                 4.9               3.0                1.4               0.2   \n",
       "2                 4.7               3.2                1.3               0.2   \n",
       "3                 4.6               3.1                1.5               0.2   \n",
       "4                 5.0               3.6                1.4               0.2   \n",
       "..                ...               ...                ...               ...   \n",
       "95                5.7               3.0                4.2               1.2   \n",
       "96                5.7               2.9                4.2               1.3   \n",
       "97                6.2               2.9                4.3               1.3   \n",
       "98                5.1               2.5                3.0               1.1   \n",
       "99                5.7               2.8                4.1               1.3   \n",
       "\n",
       "      y  \n",
       "0   0.0  \n",
       "1   0.0  \n",
       "2   0.0  \n",
       "3   0.0  \n",
       "4   0.0  \n",
       "..  ...  \n",
       "95  1.0  \n",
       "96  1.0  \n",
       "97  1.0  \n",
       "98  1.0  \n",
       "99  1.0  \n",
       "\n",
       "[100 rows x 5 columns]"
      ]
     },
     "execution_count": 26,
     "metadata": {},
     "output_type": "execute_result"
    }
   ],
   "source": [
    "df=df[df.iloc[:,-1]!=2]\n",
    "df"
   ]
  },
  {
   "cell_type": "markdown",
   "id": "3a0132b0",
   "metadata": {},
   "source": [
    "## 3. Explory Data Analys"
   ]
  },
  {
   "cell_type": "markdown",
   "id": "6eadc33a",
   "metadata": {},
   "source": [
    "### 3.1 Giải thích các features:"
   ]
  },
  {
   "cell_type": "markdown",
   "id": "61c61223",
   "metadata": {},
   "source": [
    "- Sepal length (cm): chiều dài lá(cm)\n",
    "- Sepal width (cm): chiều rộng lá(cm)\n",
    "- Petal length (cm): chiều dài cách hoa(cm)\n",
    "- Petal width (cm): chiều rộng cách hoa"
   ]
  },
  {
   "cell_type": "markdown",
   "id": "f9886e29",
   "metadata": {},
   "source": [
    "### 3.2 Kích thước dữ liệu"
   ]
  },
  {
   "cell_type": "code",
   "execution_count": 29,
   "id": "a6296357",
   "metadata": {},
   "outputs": [
    {
     "data": {
      "text/plain": [
       "(100, 5)"
      ]
     },
     "execution_count": 29,
     "metadata": {},
     "output_type": "execute_result"
    }
   ],
   "source": [
    "df.shape"
   ]
  },
  {
   "cell_type": "markdown",
   "id": "96d6a7e7",
   "metadata": {},
   "source": [
    "### 3.3 Kiểm tra xem dữ liệu có NULL không?"
   ]
  },
  {
   "cell_type": "code",
   "execution_count": 31,
   "id": "89cadec8",
   "metadata": {},
   "outputs": [
    {
     "data": {
      "text/plain": [
       "sepal length (cm)    0\n",
       "sepal width (cm)     0\n",
       "petal length (cm)    0\n",
       "petal width (cm)     0\n",
       "y                    0\n",
       "dtype: int64"
      ]
     },
     "execution_count": 31,
     "metadata": {},
     "output_type": "execute_result"
    }
   ],
   "source": [
    "df.isnull().sum()"
   ]
  },
  {
   "cell_type": "markdown",
   "id": "19242cf4",
   "metadata": {},
   "source": [
    "### 3.4 Thông tin dữ liệu"
   ]
  },
  {
   "cell_type": "code",
   "execution_count": 35,
   "id": "7bbf1170",
   "metadata": {},
   "outputs": [
    {
     "name": "stdout",
     "output_type": "stream",
     "text": [
      "<class 'pandas.core.frame.DataFrame'>\n",
      "Int64Index: 100 entries, 0 to 99\n",
      "Data columns (total 5 columns):\n",
      " #   Column             Non-Null Count  Dtype  \n",
      "---  ------             --------------  -----  \n",
      " 0   sepal length (cm)  100 non-null    float64\n",
      " 1   sepal width (cm)   100 non-null    float64\n",
      " 2   petal length (cm)  100 non-null    float64\n",
      " 3   petal width (cm)   100 non-null    float64\n",
      " 4   y                  100 non-null    float64\n",
      "dtypes: float64(5)\n",
      "memory usage: 4.7 KB\n"
     ]
    }
   ],
   "source": [
    "df.info()"
   ]
  },
  {
   "cell_type": "markdown",
   "id": "f967bbdc",
   "metadata": {},
   "source": [
    "### 3.5 Mô tả dữ liệu"
   ]
  },
  {
   "cell_type": "code",
   "execution_count": 38,
   "id": "e6914cb5",
   "metadata": {},
   "outputs": [
    {
     "data": {
      "text/html": [
       "<div>\n",
       "<style scoped>\n",
       "    .dataframe tbody tr th:only-of-type {\n",
       "        vertical-align: middle;\n",
       "    }\n",
       "\n",
       "    .dataframe tbody tr th {\n",
       "        vertical-align: top;\n",
       "    }\n",
       "\n",
       "    .dataframe thead th {\n",
       "        text-align: right;\n",
       "    }\n",
       "</style>\n",
       "<table border=\"1\" class=\"dataframe\">\n",
       "  <thead>\n",
       "    <tr style=\"text-align: right;\">\n",
       "      <th></th>\n",
       "      <th>sepal length (cm)</th>\n",
       "      <th>sepal width (cm)</th>\n",
       "      <th>petal length (cm)</th>\n",
       "      <th>petal width (cm)</th>\n",
       "      <th>y</th>\n",
       "    </tr>\n",
       "  </thead>\n",
       "  <tbody>\n",
       "    <tr>\n",
       "      <th>count</th>\n",
       "      <td>100.000000</td>\n",
       "      <td>100.000000</td>\n",
       "      <td>100.000000</td>\n",
       "      <td>100.000000</td>\n",
       "      <td>100.000000</td>\n",
       "    </tr>\n",
       "    <tr>\n",
       "      <th>mean</th>\n",
       "      <td>5.471000</td>\n",
       "      <td>3.099000</td>\n",
       "      <td>2.861000</td>\n",
       "      <td>0.786000</td>\n",
       "      <td>0.500000</td>\n",
       "    </tr>\n",
       "    <tr>\n",
       "      <th>std</th>\n",
       "      <td>0.641698</td>\n",
       "      <td>0.478739</td>\n",
       "      <td>1.449549</td>\n",
       "      <td>0.565153</td>\n",
       "      <td>0.502519</td>\n",
       "    </tr>\n",
       "    <tr>\n",
       "      <th>min</th>\n",
       "      <td>4.300000</td>\n",
       "      <td>2.000000</td>\n",
       "      <td>1.000000</td>\n",
       "      <td>0.100000</td>\n",
       "      <td>0.000000</td>\n",
       "    </tr>\n",
       "    <tr>\n",
       "      <th>25%</th>\n",
       "      <td>5.000000</td>\n",
       "      <td>2.800000</td>\n",
       "      <td>1.500000</td>\n",
       "      <td>0.200000</td>\n",
       "      <td>0.000000</td>\n",
       "    </tr>\n",
       "    <tr>\n",
       "      <th>50%</th>\n",
       "      <td>5.400000</td>\n",
       "      <td>3.050000</td>\n",
       "      <td>2.450000</td>\n",
       "      <td>0.800000</td>\n",
       "      <td>0.500000</td>\n",
       "    </tr>\n",
       "    <tr>\n",
       "      <th>75%</th>\n",
       "      <td>5.900000</td>\n",
       "      <td>3.400000</td>\n",
       "      <td>4.325000</td>\n",
       "      <td>1.300000</td>\n",
       "      <td>1.000000</td>\n",
       "    </tr>\n",
       "    <tr>\n",
       "      <th>max</th>\n",
       "      <td>7.000000</td>\n",
       "      <td>4.400000</td>\n",
       "      <td>5.100000</td>\n",
       "      <td>1.800000</td>\n",
       "      <td>1.000000</td>\n",
       "    </tr>\n",
       "  </tbody>\n",
       "</table>\n",
       "</div>"
      ],
      "text/plain": [
       "       sepal length (cm)  sepal width (cm)  petal length (cm)  \\\n",
       "count         100.000000        100.000000         100.000000   \n",
       "mean            5.471000          3.099000           2.861000   \n",
       "std             0.641698          0.478739           1.449549   \n",
       "min             4.300000          2.000000           1.000000   \n",
       "25%             5.000000          2.800000           1.500000   \n",
       "50%             5.400000          3.050000           2.450000   \n",
       "75%             5.900000          3.400000           4.325000   \n",
       "max             7.000000          4.400000           5.100000   \n",
       "\n",
       "       petal width (cm)           y  \n",
       "count        100.000000  100.000000  \n",
       "mean           0.786000    0.500000  \n",
       "std            0.565153    0.502519  \n",
       "min            0.100000    0.000000  \n",
       "25%            0.200000    0.000000  \n",
       "50%            0.800000    0.500000  \n",
       "75%            1.300000    1.000000  \n",
       "max            1.800000    1.000000  "
      ]
     },
     "execution_count": 38,
     "metadata": {},
     "output_type": "execute_result"
    }
   ],
   "source": [
    "df.describe()"
   ]
  },
  {
   "cell_type": "markdown",
   "id": "046a7aa5",
   "metadata": {},
   "source": [
    "### 3.6 Biểu đồ cặp:"
   ]
  },
  {
   "cell_type": "code",
   "execution_count": 37,
   "id": "f3c317a0",
   "metadata": {},
   "outputs": [
    {
     "data": {
      "image/png": "[encoded data removed]",
      "text/plain": [
       "<Figure size 900x900 with 30 Axes>"
      ]
     },
     "metadata": {
      "needs_background": "light"
     },
     "output_type": "display_data"
    }
   ],
   "source": [
    "sns.pairplot(df);"
   ]
  },
  {
   "cell_type": "markdown",
   "id": "fe4ac4fa",
   "metadata": {},
   "source": [
    "## 4. Chia dữ liệu:"
   ]
  },
  {
   "cell_type": "markdown",
   "id": "712fce2a",
   "metadata": {},
   "source": [
    "###  4.1. Tách dữ liệu từ DataFrame"
   ]
  },
  {
   "cell_type": "code",
   "execution_count": 56,
   "id": "6fd018c0",
   "metadata": {},
   "outputs": [],
   "source": [
    "X=df.iloc[:,:-1].values\n",
    "y=df.iloc[:,-1].values"
   ]
  },
  {
   "cell_type": "markdown",
   "id": "ad590b82",
   "metadata": {},
   "source": [
    "### 4.2. Chia dữ liệu thành tập huấn luyện và tập kiểm thử:"
   ]
  },
  {
   "cell_type": "code",
   "execution_count": 58,
   "id": "2c558408",
   "metadata": {},
   "outputs": [],
   "source": [
    "from sklearn.model_selection import train_test_split\n",
    "X_train, X_test, y_train, y_test = train_test_split(X, y, test_size=0.25)"
   ]
  },
  {
   "cell_type": "markdown",
   "id": "c3705d12",
   "metadata": {},
   "source": [
    "## 5. Trainning and testing (Không dùng thư viện):"
   ]
  },
  {
   "cell_type": "markdown",
   "id": "46ee55c9",
   "metadata": {},
   "source": [
    "### 5.1 Tạo active function sigmoid"
   ]
  },
  {
   "cell_type": "code",
   "execution_count": 42,
   "id": "4c4fe6ab",
   "metadata": {},
   "outputs": [],
   "source": [
    "def sigmoid(x):\n",
    "    return 1 / (1 + np.exp(-x))"
   ]
  },
  {
   "cell_type": "markdown",
   "id": "b300c42e",
   "metadata": {},
   "source": [
    "### 5.2 Tạo hàm Logistic Regression"
   ]
  },
  {
   "cell_type": "code",
   "execution_count": 43,
   "id": "1b206739",
   "metadata": {},
   "outputs": [],
   "source": [
    "def output(X,w,b):\n",
    "    m=X.shape[0]\n",
    "    n=X.shape[1]\n",
    "    f_wb=np.zeros(m)\n",
    "    for i in range(m):\n",
    "        f_wb[i]+=sigmoid(np.dot(X[i],w)+b)\n",
    "    return f_wb"
   ]
  },
  {
   "cell_type": "markdown",
   "id": "c3f5b556",
   "metadata": {},
   "source": [
    "### 5.3 Tạo cost function"
   ]
  },
  {
   "cell_type": "code",
   "execution_count": 44,
   "id": "83b79924",
   "metadata": {},
   "outputs": [],
   "source": [
    "def cost_function(X,y,w,b):\n",
    "    m=X.shape[0]\n",
    "    n=X.shape[1]\n",
    "    J_wb=0\n",
    "    for i in range(m):\n",
    "        J_wb-=(y[i]*np.log(output(X,w,b)[i])+(1-y[i])*np.log(1-output(X,w,b)[i]))\n",
    "    J_wb/=m\n",
    "    return J_wb"
   ]
  },
  {
   "cell_type": "markdown",
   "id": "228f5377",
   "metadata": {},
   "source": [
    "### 5.4 Triển khai gradient descent:"
   ]
  },
  {
   "cell_type": "code",
   "execution_count": 59,
   "id": "b3c362e4",
   "metadata": {},
   "outputs": [],
   "source": [
    "def gradient_descent(X, y, iterations = 1000, learning_rate = 0.001,stopping_threshold = 5e-4):\n",
    "    m=X.shape[0]\n",
    "    n=X.shape[1]\n",
    "    current_weight = np.array([1,0,3,2]) #[ 0.41926831 -0.81131514  2.15245015  0.92792458]\n",
    "    current_bias = -6\n",
    "    iterations = iterations\n",
    "    learning_rate = learning_rate\n",
    "    costs = np.array([])\n",
    "    weights = np.array([])\n",
    "    previous_cost = None\n",
    "    for i in range(iterations):\n",
    "        y_predicted=output(X,current_weight,current_bias)\n",
    "        current_cost=cost_function(X,y,current_weight,current_bias)\n",
    "        if previous_cost and abs(previous_cost-current_cost)<=stopping_threshold:\n",
    "            break\n",
    "        previous_cost = current_cost\n",
    "        costs=np.append(costs,current_cost)\n",
    "        weights=np.append(weights,current_weight)\n",
    "        weight_derivative=np.zeros(n)\n",
    "        for j in range(n):\n",
    "            weight_derivative[j] = (1/m) * sum(X[:,j]* (y_predicted-y))\n",
    "        bias_derivative = (1/m) * sum(y_predicted-y)\n",
    "        current_weight=current_weight- (learning_rate * weight_derivative )\n",
    "        current_bias -=(learning_rate * bias_derivative)\n",
    "        print(f\"Iteration {i+1}: Cost {current_cost}, Weight {current_weight}, Bias {current_bias}\")\n",
    "    return current_weight, current_bias,costs"
   ]
  },
  {
   "cell_type": "code",
   "execution_count": 60,
   "id": "26c7557e",
   "metadata": {},
   "outputs": [
    {
     "name": "stdout",
     "output_type": "stream",
     "text": [
      "Iteration 1: Cost 1.98322853228514, Weight [ 9.97559395e-01 -1.68680031e-03  2.99928497e+00  1.99987972e+00], Bias -6.000482285114198\n",
      "Iteration 2: Cost 1.9736703395591573, Weight [ 0.99511981 -0.0033729   2.99857024  1.99975949], Bias -6.000964363376427\n",
      "Iteration 3: Cost 1.9641201503117707, Weight [ 0.99268126 -0.00505828  2.99785581  1.9996393 ], Bias -6.001446231095143\n",
      "Iteration 4: Cost 1.9545781049655107, Weight [ 0.99024376 -0.00674294  2.99714167  1.99951916], Bias -6.001927884519952\n",
      "Iteration 5: Cost 1.9450443460720954, Weight [ 0.98780734 -0.00842686  2.99642785  1.99939907], Bias -6.002409319840942\n",
      "Iteration 6: Cost 1.9355190183321005, Weight [ 0.98537202 -0.01011002  2.99571435  1.99927902], Bias -6.002890533188013\n",
      "Iteration 7: Cost 1.9260022686143357, Weight [ 0.98293781 -0.01179241  2.99500116  1.99915903], Bias -6.0033715206302\n",
      "Iteration 8: Cost 1.9164942459748557, Weight [ 0.98050473 -0.01347403  2.9942883   1.99903908], Bias -6.0038522781750165\n",
      "Iteration 9: Cost 1.9069951016756235, Weight [ 0.9780728  -0.01515485  2.99357578  1.99891918], Bias -6.004332801767787\n",
      "Iteration 10: Cost 1.8975049892027782, Weight [ 0.97564205 -0.01683486  2.99286359  1.99879934], Bias -6.0048130872909935\n",
      "Iteration 11: Cost 1.8880240642844803, Weight [ 0.97321249 -0.01851405  2.99215175  1.99867955], Bias -6.005293130563621\n",
      "Iteration 12: Cost 1.8785524849083137, Weight [ 0.97078415 -0.0201924   2.99144025  1.99855981], Bias -6.005772927340512\n",
      "Iteration 13: Cost 1.8690904113382278, Weight [ 0.96835704 -0.0218699   2.99072911  1.99844013], Bias -6.006252473311726\n",
      "Iteration 14: Cost 1.8596380061309519, Weight [ 0.96593119 -0.02354653  2.99001834  1.9983205 ], Bias -6.006731764101904\n",
      "Iteration 15: Cost 1.850195434151899, Weight [ 0.96350663 -0.02522227  2.98930793  1.99820093], Bias -6.007210795269645\n",
      "Iteration 16: Cost 1.8407628625905095, Weight [ 0.96108336 -0.02689712  2.9885979   1.99808142], Bias -6.007689562306887\n",
      "Iteration 17: Cost 1.8313404609749746, Weight [ 0.95866143 -0.02857106  2.98788825  1.99796196], Bias -6.008168060638293\n",
      "Iteration 18: Cost 1.8219284011863757, Weight [ 0.95624084 -0.03024406  2.98717899  1.99784257], Bias -6.008646285620655\n",
      "Iteration 19: Cost 1.8125268574721312, Weight [ 0.95382162 -0.03191612  2.98647012  1.99772323], Bias -6.009124232542301\n",
      "Iteration 20: Cost 1.8031360064587727, Weight [ 0.9514038  -0.03358722  2.98576166  1.99760396], Bias -6.009601896622517\n",
      "Iteration 21: Cost 1.7937560271639919, Weight [ 0.94898741 -0.03525734  2.9850536   1.99748475], Bias -6.010079273010977\n",
      "Iteration 22: Cost 1.7843871010079257, Weight [ 0.94657245 -0.03692646  2.98434596  1.9973656 ], Bias -6.010556356787187\n",
      "Iteration 23: Cost 1.7750294118236505, Weight [ 0.94415897 -0.03859456  2.98363875  1.99724652], Bias -6.011033142959943\n",
      "Iteration 24: Cost 1.76568314586685, Weight [ 0.94174698 -0.04026164  2.98293196  1.99712751], Bias -6.0115096264667995\n",
      "Iteration 25: Cost 1.7563484918246035, Weight [ 0.93933651 -0.04192767  2.98222561  1.99700856], Bias -6.011985802173557\n",
      "Iteration 26: Cost 1.7470256408232891, Weight [ 0.93692759 -0.04359263  2.98151971  1.99688968], Bias -6.012461664873762\n",
      "Iteration 27: Cost 1.7377147864355238, Weight [ 0.93452024 -0.04525651  2.98081426  1.99677087], Bias -6.012937209288222\n",
      "Iteration 28: Cost 1.7284161246861447, Weight [ 0.93211449 -0.04691929  2.98010927  1.99665213], Bias -6.013412430064543\n",
      "Iteration 29: Cost 1.719129854057156, Weight [ 0.92971037 -0.04858094  2.97940474  1.99653346], Bias -6.013887321776677\n",
      "Iteration 30: Cost 1.709856175491622, Weight [ 0.9273079  -0.05024145  2.9787007   1.99641486], Bias -6.014361878924498\n",
      "Iteration 31: Cost 1.7005952923964613, Weight [ 0.92490711 -0.05190081  2.97799713  1.99629634], Bias -6.01483609593339\n",
      "Iteration 32: Cost 1.6913474106441058, Weight [ 0.92250804 -0.05355898  2.97729406  1.99617789], Bias -6.015309967153859\n",
      "Iteration 33: Cost 1.6821127385729746, Weight [ 0.9201107  -0.05521596  2.97659149  1.99605953], Bias -6.015783486861166\n",
      "Iteration 34: Cost 1.6728914869867264, Weight [ 0.91771513 -0.05687171  2.97588942  1.99594123], Bias -6.016256649254988\n",
      "Iteration 35: Cost 1.6636838691522517, Weight [ 0.91532135 -0.05852623  2.97518788  1.99582302], Bias -6.016729448459087\n",
      "Iteration 36: Cost 1.6544901007963626, Weight [ 0.91292941 -0.06017949  2.97448685  1.99570489], Bias -6.017201878521028\n",
      "Iteration 37: Cost 1.6453104001011296, Weight [ 0.91053932 -0.06183147  2.97378637  1.99558684], Bias -6.017673933411899\n",
      "Iteration 38: Cost 1.6361449876978351, Weight [ 0.90815111 -0.06348214  2.97308642  1.99546888], Bias -6.018145607026073\n",
      "Iteration 39: Cost 1.6269940866594854, Weight [ 0.90576483 -0.0651315   2.97238703  1.99535099], Bias -6.01861689318099\n",
      "Iteration 40: Cost 1.617857922491862, Weight [ 0.90338049 -0.06677951  2.97168819  1.9952332 ], Bias -6.019087785616977\n",
      "Iteration 41: Cost 1.6087367231230452, Weight [ 0.90099814 -0.06842615  2.97098993  1.99511549], Bias -6.019558277997081\n",
      "Iteration 42: Cost 1.5996307188913799, Weight [ 0.8986178  -0.0700714   2.97029224  1.99499787], Bias -6.020028363906954\n",
      "Iteration 43: Cost 1.5905401425318462, Weight [ 0.8962395  -0.07171524  2.96959514  1.99488034], Bias -6.020498036854754\n",
      "Iteration 44: Cost 1.5814652291607683, Weight [ 0.89386328 -0.07335765  2.96889864  1.99476291], Bias -6.020967290271085\n",
      "Iteration 45: Cost 1.5724062162588608, Weight [ 0.89148917 -0.07499861  2.96820275  1.99464556], Bias -6.021436117508974\n",
      "Iteration 46: Cost 1.5633633436525225, Weight [ 0.88911721 -0.07663808  2.96750747  1.99452831], Bias -6.021904511843876\n",
      "Iteration 47: Cost 1.554336853493377, Weight [ 0.88674743 -0.07827605  2.96681282  1.99441116], Bias -6.022372466473724\n",
      "Iteration 48: Cost 1.5453269902359907, Weight [ 0.88437986 -0.07991249  2.9661188   1.9942941 ], Bias -6.0228399745190115\n",
      "Iteration 49: Cost 1.5363340006137498, Weight [ 0.88201454 -0.08154738  2.96542544  1.99417715], Bias -6.02330702902291\n",
      "Iteration 50: Cost 1.5273581336128335, Weight [ 0.87965151 -0.0831807   2.96473272  1.99406029], Bias -6.023773622951439\n",
      "Iteration 51: Cost 1.518399640444269, Weight [ 0.87729079 -0.08481241  2.96404067  1.99394354], Bias -6.024239749193661\n",
      "Iteration 52: Cost 1.5094587745140082, Weight [ 0.87493243 -0.0864425   2.9633493   1.99382689], Bias -6.0247054005619285\n",
      "Iteration 53: Cost 1.5005357913910025, Weight [ 0.87257646 -0.08807094  2.96265862  1.99371035], Bias -6.0251705697921745\n",
      "Iteration 54: Cost 1.4916309487732384, Weight [ 0.87022292 -0.08969771  2.96196863  1.99359391], Bias -6.025635249544241\n",
      "Iteration 55: Cost 1.482744506451686, Weight [ 0.86787185 -0.09132277  2.96127936  1.99347759], Bias -6.026099432402256\n",
      "Iteration 56: Cost 1.473876726272144, Weight [ 0.86552328 -0.09294611  2.9605908   1.99336137], Bias -6.026563110875059\n",
      "Iteration 57: Cost 1.465027872094938, Weight [ 0.86317725 -0.09456769  2.95990297  1.99324527], Bias -6.027026277396669\n",
      "Iteration 58: Cost 1.4561982097524444, Weight [ 0.8608338  -0.09618749  2.95921588  1.99312928], Bias -6.027488924326807\n",
      "Iteration 59: Cost 1.4473880070044023, Weight [ 0.85849296 -0.09780549  2.95852954  1.9930134 ], Bias -6.027951043951459\n",
      "Iteration 60: Cost 1.4385975334910028, Weight [ 0.85615479 -0.09942165  2.95784397  1.99289765], Bias -6.028412628483499\n",
      "Iteration 61: Cost 1.4298270606837093, Weight [ 0.85381931 -0.10103595  2.95715917  1.99278201], Bias -6.0288736700633585\n",
      "Iteration 62: Cost 1.421076861833799, Weight [ 0.85148657 -0.10264836  2.95647515  1.99266649], Bias -6.029334160759746\n",
      "Iteration 63: Cost 1.4123472119185936, Weight [ 0.8491566  -0.10425886  2.95579193  1.9925511 ], Bias -6.029794092570427\n",
      "Iteration 64: Cost 1.4036383875853748, Weight [ 0.84682946 -0.10586741  2.95510953  1.99243583], Bias -6.030253457423049\n",
      "Iteration 65: Cost 1.3949506670929324, Weight [ 0.84450517 -0.10747399  2.95442794  1.99232069], Bias -6.030712247176029\n",
      "Iteration 66: Cost 1.3862843302507757, Weight [ 0.84218378 -0.10907857  2.95374718  1.99220567], Bias -6.031170453619495\n",
      "Iteration 67: Cost 1.3776396583559591, Weight [ 0.83986533 -0.11068111  2.95306727  1.99209079], Bias -6.03162806847628\n",
      "Iteration 68: Cost 1.369016934127523, Weight [ 0.83754986 -0.1122816   2.95238821  1.99197603], Bias -6.032085083402978\n"
     ]
    },
    {
     "name": "stdout",
     "output_type": "stream",
     "text": [
      "Iteration 69: Cost 1.3604164416385445, Weight [ 0.83523742 -0.11388     2.95171003  1.99186141], Bias -6.032541489991056\n",
      "Iteration 70: Cost 1.3518384662457945, Weight [ 0.83292805 -0.11547629  2.95103272  1.99174693], Bias -6.032997279768026\n",
      "Iteration 71: Cost 1.3432832945169864, Weight [ 0.83062179 -0.11707042  2.9503563   1.99163258], Bias -6.033452444198674\n",
      "Iteration 72: Cost 1.3347512141556315, Weight [ 0.82831868 -0.11866238  2.94968079  1.99151838], Bias -6.033906974686353\n",
      "Iteration 73: Cost 1.326242513923502, Weight [ 0.82601877 -0.12025213  2.9490062   1.99140431], Bias -6.0343608625743315\n",
      "Iteration 74: Cost 1.3177574835606953, Weight [ 0.8237221  -0.12183964  2.94833254  1.99129039], Bias -6.034814099147207\n",
      "Iteration 75: Cost 1.3092964137033376, Weight [ 0.82142872 -0.12342489  2.94765982  1.99117662], Bias -6.035266675632376\n",
      "Iteration 76: Cost 1.3008595957989082, Weight [ 0.81913867 -0.12500783  2.94698805  1.99106299], Bias -6.035718583201572\n",
      "Iteration 77: Cost 1.2924473220192276, Weight [ 0.81685199 -0.12658845  2.94631726  1.99094951], Bias -6.03616981297246\n",
      "Iteration 78: Cost 1.2840598851711216, Weight [ 0.81456873 -0.1281667   2.94564744  1.99083618], Bias -6.036620356010297\n",
      "Iteration 79: Cost 1.2756975786047815, Weight [ 0.81228894 -0.12974256  2.94497862  1.99072301], Bias -6.03707020332965\n",
      "Iteration 80: Cost 1.2673606961198556, Weight [ 0.81001266 -0.131316    2.94431081  1.99060999], Bias -6.037519345896182\n",
      "Iteration 81: Cost 1.2590495318693058, Weight [ 0.80773994 -0.13288698  2.94364401  1.99049713], Bias -6.0379677746284965\n",
      "Iteration 82: Cost 1.2507643802610617, Weight [ 0.80547082 -0.13445548  2.94297825  1.99038443], Bias -6.038415480400044\n",
      "Iteration 83: Cost 1.24250553585751, Weight [ 0.80320534 -0.13602145  2.94231354  1.99027189], Bias -6.038862454041094\n",
      "Iteration 84: Cost 1.2342732932728762, Weight [ 0.80094357 -0.13758488  2.94164988  1.99015951], Bias -6.039308686340763\n",
      "Iteration 85: Cost 1.2260679470685416, Weight [ 0.79868553 -0.13914571  2.9409873   1.9900473 ], Bias -6.039754168049114\n",
      "Iteration 86: Cost 1.2178897916463274, Weight [ 0.79643129 -0.14070394  2.94032581  1.98993526], Bias -6.040198889879303\n",
      "Iteration 87: Cost 1.2097391211398518, Weight [ 0.79418088 -0.14225951  2.93966541  1.98982339], Bias -6.040642842509801\n",
      "Iteration 88: Cost 1.201616229303973, Weight [ 0.79193435 -0.1438124   2.93900613  1.98971169], Bias -6.0410860165866636\n",
      "Iteration 89: Cost 1.1935214094024067, Weight [ 0.78969175 -0.14536258  2.93834798  1.98960016], Bias -6.041528402725868\n",
      "Iteration 90: Cost 1.1854549540935921, Weight [ 0.78745314 -0.14691001  2.93769096  1.98948881], Bias -6.041969991515708\n",
      "Iteration 91: Cost 1.1774171553148662, Weight [ 0.78521855 -0.14845465  2.9370351   1.98937764], Bias -6.042410773519237\n",
      "Iteration 92: Cost 1.169408304165036, Weight [ 0.78298803 -0.14999649  2.93638041  1.98926665], Bias -6.042850739276788\n",
      "Iteration 93: Cost 1.161428690785434, Weight [ 0.78076164 -0.15153548  2.9357269   1.98915585], Bias -6.0432898793085235\n",
      "Iteration 94: Cost 1.15347860423952, Weight [ 0.77853941 -0.15307158  2.93507459  1.98904522], Bias -6.043728184117064\n",
      "Iteration 95: Cost 1.1455583323911607, Weight [ 0.7763214  -0.15460478  2.93442349  1.98893479], Bias -6.044165644190154\n",
      "Iteration 96: Cost 1.137668161781643, Weight [ 0.77410766 -0.15613502  2.93377361  1.98882455], Bias -6.044602250003389\n",
      "Iteration 97: Cost 1.1298083775055436, Weight [ 0.77189824 -0.15766229  2.93312496  1.98871449], Bias -6.045037992022985\n",
      "Iteration 98: Cost 1.1219792630855483, Weight [ 0.76969318 -0.15918654  2.93247757  1.98860463], Bias -6.04547286070861\n",
      "Iteration 99: Cost 1.114181100346333, Weight [ 0.76749252 -0.16070775  2.93183144  1.98849497], Bias -6.045906846516247\n",
      "Iteration 100: Cost 1.1064141692876113, Weight [ 0.76529633 -0.16222587  2.93118659  1.98838551], Bias -6.046339939901116\n",
      "Iteration 101: Cost 1.0986787479564641, Weight [ 0.76310465 -0.16374088  2.93054303  1.98827624], Bias -6.046772131320632\n",
      "Iteration 102: Cost 1.0909751123190747, Weight [ 0.76091752 -0.16525275  2.92990078  1.98816718], Bias -6.0472034112374144\n",
      "Iteration 103: Cost 1.0833035361319812, Weight [ 0.758735   -0.16676143  2.92925985  1.98805832], Bias -6.047633770122322\n",
      "Iteration 104: Cost 1.075664290812973, Weight [ 0.75655713 -0.16826689  2.92862025  1.98794967], Bias -6.048063198457541\n",
      "Iteration 105: Cost 1.0680576453117585, Weight [ 0.75438397 -0.16976911  2.92798201  1.98784123], Bias -6.0484916867397\n",
      "Iteration 106: Cost 1.0604838659805427, Weight [ 0.75221555 -0.17126805  2.92734512  1.987733  ], Bias -6.048919225483023\n",
      "Iteration 107: Cost 1.052943216444621, Weight [ 0.75005193 -0.17276367  2.9267096   1.98762499], Bias -6.0493458052225115\n",
      "Iteration 108: Cost 1.0454359574731509, Weight [ 0.74789316 -0.17425594  2.92607548  1.98751719], Bias -6.049771416517155\n",
      "Iteration 109: Cost 1.0379623468502337, Weight [ 0.74573928 -0.17574484  2.92544276  1.9874096 ], Bias -6.05019604995317\n",
      "Iteration 110: Cost 1.0305226392464168, Weight [ 0.74359034 -0.17723031  2.92481146  1.98730224], Bias -6.0506196961472645\n",
      "Iteration 111: Cost 1.0231170860907963, Weight [ 0.74144639 -0.17871234  2.92418158  1.9871951 ], Bias -6.0510423457499165\n",
      "Iteration 112: Cost 1.0157459354438387, Weight [ 0.73930747 -0.1801909   2.92355315  1.98708819], Bias -6.051463989448681\n",
      "Iteration 113: Cost 1.0084094318710597, Weight [ 0.73717364 -0.18166593  2.92292618  1.9869815 ], Bias -6.0518846179715045\n",
      "Iteration 114: Cost 1.001107816317723, Weight [ 0.73504494 -0.18313743  2.92230068  1.98687504], Bias -6.052304222090055\n",
      "Iteration 115: Cost 0.9938413259846821, Weight [ 0.73292142 -0.18460534  2.92167666  1.98676881], Bias -6.052722792623067\n",
      "Iteration 116: Cost 0.9866101942055286, Weight [ 0.73080312 -0.18606965  2.92105414  1.98666282], Bias -6.053140320439682\n",
      "Iteration 117: Cost 0.9794146503251759, Weight [ 0.72869009 -0.18753031  2.92043313  1.98655706], Bias -6.053556796462806\n",
      "Iteration 118: Cost 0.9722549195800273, Weight [ 0.72658238 -0.1889873   2.91981364  1.98645153], Bias -6.053972211672461\n",
      "Iteration 119: Cost 0.9651312229798797, Weight [ 0.72448003 -0.19044058  2.91919569  1.98634625], Bias -6.054386557109132\n",
      "Iteration 120: Cost 0.9580437771916956, Weight [ 0.72238308 -0.19189013  2.9185793   1.98624121], Bias -6.054799823877117\n",
      "Iteration 121: Cost 0.9509927944253873, Weight [ 0.72029159 -0.19333591  2.91796446  1.98613641], Bias -6.055212003147858\n",
      "Iteration 122: Cost 0.943978482321759, Weight [ 0.7182056  -0.19477789  2.9173512   1.98603186], Bias -6.055623086163273\n",
      "Iteration 123: Cost 0.9370010438427374, Weight [ 0.71612514 -0.19621604  2.91673953  1.98592756], Bias -6.05603306423906\n",
      "Iteration 124: Cost 0.9300606771640347, Weight [ 0.71405027 -0.19765033  2.91612946  1.9858235 ], Bias -6.056441928767994\n",
      "Iteration 125: Cost 0.9231575755703691, Weight [ 0.71198103 -0.19908073  2.91552101  1.9857197 ], Bias -6.056849671223194\n",
      "Iteration 126: Cost 0.9162919273533874, Weight [ 0.70991746 -0.20050721  2.91491418  1.98561615], Bias -6.057256283161375\n",
      "Iteration 127: Cost 0.9094639157124011, Weight [ 0.70785961 -0.20192973  2.91430899  1.98551286], Bias -6.057661756226061\n",
      "Iteration 128: Cost 0.9026737186580787, Weight [ 0.70580751 -0.20334828  2.91370545  1.98540982], Bias -6.058066082150777\n",
      "Iteration 129: Cost 0.8959215089191984, Weight [ 0.70376122 -0.20476282  2.91310357  1.98530705], Bias -6.058469252762202\n",
      "Iteration 130: Cost 0.8892074538525985, Weight [ 0.70172076 -0.20617333  2.91250337  1.98520454], Bias -6.0588712599832855\n",
      "Iteration 131: Cost 0.88253171535642, Weight [ 0.69968618 -0.20757976  2.91190485  1.98510229], Bias -6.0592720958363255\n",
      "Iteration 132: Cost 0.8758944497867654, Weight [ 0.69765753 -0.20898211  2.91130804  1.98500031], Bias -6.059671752445999\n",
      "Iteration 133: Cost 0.8692958078778683, Weight [ 0.69563483 -0.21038033  2.91071293  1.98489859], Bias -6.06007022204235\n",
      "Iteration 134: Cost 0.8627359346658833, Weight [ 0.69361814 -0.2117744   2.91011955  1.98479715], Bias -6.060467496963728\n",
      "Iteration 135: Cost 0.8562149694163834, Weight [ 0.69160749 -0.2131643   2.90952789  1.98469597], Bias -6.060863569659669\n",
      "Iteration 136: Cost 0.8497330455556564, Weight [ 0.68960291 -0.21455     2.90893798  1.98459507], Bias -6.0612584326937275\n",
      "Iteration 137: Cost 0.8432902906058893, Weight [ 0.68760445 -0.21593147  2.90834983  1.98449444], Bias -6.061652078746246\n",
      "Iteration 138: Cost 0.8368868261243124, Weight [ 0.68561214 -0.21730868  2.90776344  1.98439409], Bias -6.0620445006170645\n",
      "Iteration 139: Cost 0.8305227676463787, Weight [ 0.68362602 -0.21868162  2.90717882  1.98429402], Bias -6.06243569122817\n"
     ]
    },
    {
     "name": "stdout",
     "output_type": "stream",
     "text": [
      "Iteration 140: Cost 0.8241982246330464, Weight [ 0.68164613 -0.22005025  2.90659599  1.98419423], Bias -6.06282564362627\n",
      "Iteration 141: Cost 0.8179133004222244, Weight [ 0.6796725  -0.22141456  2.90601496  1.98409472], Bias -6.0632143509853105\n",
      "Iteration 142: Cost 0.811668092184431, Weight [ 0.67770515 -0.22277451  2.90543573  1.9839955 ], Bias -6.063601806608912\n",
      "Iteration 143: Cost 0.8054626908827212, Weight [ 0.67574414 -0.22413009  2.90485832  1.98389656], Bias -6.063988003932736\n",
      "Iteration 144: Cost 0.7992971812369146, Weight [ 0.67378949 -0.22548126  2.90428273  1.9837979 ], Bias -6.064372936526776\n",
      "Iteration 145: Cost 0.7931716416921669, Weight [ 0.67184123 -0.22682802  2.90370898  1.98369954], Bias -6.064756598097569\n",
      "Iteration 146: Cost 0.7870861443919056, Weight [ 0.6698994  -0.22817033  2.90313708  1.98360146], Bias -6.065138982490331\n",
      "Iteration 147: Cost 0.7810407551551581, Weight [ 0.66796403 -0.22950818  2.90256702  1.98350368], Bias -6.065520083691003\n",
      "Iteration 148: Cost 0.7750355334582798, Weight [ 0.66603514 -0.23084155  2.90199883  1.98340619], Bias -6.06589989582822\n",
      "Iteration 149: Cost 0.7690705324210958, Weight [ 0.66411277 -0.2321704   2.90143251  1.98330899], Bias -6.066278413175196\n",
      "Iteration 150: Cost 0.763145798797453, Weight [ 0.66219694 -0.23349473  2.90086807  1.98321209], Bias -6.0666556301515095\n",
      "Iteration 151: Cost 0.7572613729701768, Weight [ 0.66028769 -0.23481452  2.90030552  1.98311549], Bias -6.067031541324818\n",
      "Iteration 152: Cost 0.7514172889504277, Weight [ 0.65838504 -0.23612974  2.89974486  1.98301919], Bias -6.067406141412469\n",
      "Iteration 153: Cost 0.7456135743814248, Weight [ 0.65648902 -0.23744037  2.89918611  1.98292318], Bias -6.06777942528303\n",
      "Iteration 154: Cost 0.7398502505465233, Weight [ 0.65459965 -0.23874641  2.89862926  1.98282748], Bias -6.068151387957716\n",
      "Iteration 155: Cost 0.7341273323816094, Weight [ 0.65271696 -0.24004782  2.89807434  1.98273208], Bias -6.068522024611734\n",
      "Iteration 156: Cost 0.7284448284917727, Weight [ 0.65084097 -0.2413446   2.89752134  1.98263699], Bias -6.0688913305755285\n",
      "Iteration 157: Cost 0.7228027411722124, Weight [ 0.64897171 -0.24263672  2.89697027  1.9825422 ], Bias -6.069259301335934\n",
      "Iteration 158: Cost 0.717201066433332, Weight [ 0.6471092  -0.24392418  2.89642114  1.98244771], Bias -6.069625932537229\n",
      "Iteration 159: Cost 0.7116397940299577, Weight [ 0.64525347 -0.24520696  2.89587396  1.98235354], Bias -6.0699912199821044\n",
      "Iteration 160: Cost 0.706118907494624, Weight [ 0.64340452 -0.24648503  2.89532873  1.98225967], Bias -6.0703551596325225\n",
      "Iteration 161: Cost 0.700638384174857, Weight [ 0.64156239 -0.2477584   2.89478546  1.98216611], Bias -6.070717747610493\n",
      "Iteration 162: Cost 0.6951981952743854, Weight [ 0.63972709 -0.24902703  2.89424415  1.98207287], Bias -6.071078980198743\n",
      "Iteration 163: Cost 0.6897983058981976, Weight [ 0.63789864 -0.25029093  2.89370481  1.98197993], Bias -6.071438853841298\n",
      "Iteration 164: Cost 0.6844386751013602, Weight [ 0.63607706 -0.25155008  2.89316744  1.98188731], Bias -6.071797365143966\n",
      "Iteration 165: Cost 0.6791192559415203, Weight [ 0.63426237 -0.25280446  2.89263206  1.981795  ], Bias -6.072154510874724\n",
      "Iteration 166: Cost 0.6738399955349856, Weight [ 0.63245458 -0.25405407  2.89209865  1.98170301], Bias -6.072510287964011\n",
      "Iteration 167: Cost 0.6686008351162981, Weight [ 0.63065371 -0.2552989   2.89156724  1.98161133], Bias -6.072864693504929\n",
      "Iteration 168: Cost 0.6634017101011968, Weight [ 0.62885977 -0.25653893  2.89103782  1.98151997], Bias -6.073217724753348\n",
      "Iteration 169: Cost 0.658242550152858, Weight [ 0.62707278 -0.25777415  2.8905104   1.98142892], Bias -6.073569379127917\n",
      "Iteration 170: Cost 0.6531232792513262, Weight [ 0.62529275 -0.25900456  2.88998499  1.9813382 ], Bias -6.07391965420999\n",
      "Iteration 171: Cost 0.6480438157659985, Weight [ 0.62351969 -0.26023015  2.88946157  1.98124779], Bias -6.074268547743456\n",
      "Iteration 172: Cost 0.6430040725310745, Weight [ 0.62175361 -0.2614509   2.88894017  1.9811577 ], Bias -6.074616057634476\n",
      "Iteration 173: Cost 0.6380039569238369, Weight [ 0.61999453 -0.26266682  2.88842078  1.98106793], Bias -6.0749621819511415\n",
      "Iteration 174: Cost 0.6330433709456582, Weight [ 0.61824245 -0.26387789  2.8879034   1.98097848], Bias -6.075306918923041\n",
      "Iteration 175: Cost 0.6281222113056022, Weight [ 0.61649738 -0.26508412  2.88738804  1.98088936], Bias -6.075650266940738\n",
      "Iteration 176: Cost 0.6232403695065081, Weight [ 0.61475933 -0.26628548  2.8868747   1.98080055], Bias -6.07599222455517\n",
      "Iteration 177: Cost 0.6183977319334262, Weight [ 0.61302831 -0.26748199  2.88636339  1.98071207], Bias -6.076332790476964\n",
      "Iteration 178: Cost 0.6135941799442866, Weight [ 0.61130433 -0.26867363  2.8858541   1.98062391], Bias -6.076671963575668\n",
      "Iteration 179: Cost 0.6088295899626697, Weight [ 0.60958738 -0.26986039  2.88534684  1.98053607], Bias -6.077009742878912\n",
      "Iteration 180: Cost 0.6041038335725566, Weight [ 0.60787748 -0.27104229  2.8848416   1.98044856], Bias -6.077346127571479\n",
      "Iteration 181: Cost 0.5994167776149302, Weight [ 0.60617462 -0.27221931  2.8843384   1.98036137], Bias -6.077681116994315\n",
      "Iteration 182: Cost 0.594768284286099, Weight [ 0.60447882 -0.27339145  2.88383722  1.98027451], Bias -6.078014710643455\n",
      "Iteration 183: Cost 0.5901582112376221, Weight [ 0.60279007 -0.27455871  2.88333808  1.98018797], Bias -6.078346908168883\n",
      "Iteration 184: Cost 0.5855864116777025, Weight [ 0.60110838 -0.27572109  2.88284097  1.98010176], Bias -6.0786777093733235\n",
      "Iteration 185: Cost 0.5810527344739232, Weight [ 0.59943375 -0.27687859  2.8823459   1.98001587], Bias -6.079007114210961\n",
      "Iteration 186: Cost 0.5765570242572076, Weight [ 0.59776617 -0.2780312   2.88185286  1.97993031], Bias -6.079335122786102\n",
      "Iteration 187: Cost 0.5720991215268718, Weight [ 0.59610565 -0.27917893  2.88136185  1.97984507], Bias -6.079661735351766\n",
      "Iteration 188: Cost 0.5676788627566485, Weight [ 0.59445218 -0.28032178  2.88087287  1.97976016], Bias -6.079986952308226\n",
      "Iteration 189: Cost 0.5632960805015627, Weight [ 0.59280576 -0.28145975  2.88038593  1.97967557], Bias -6.08031077420148\n",
      "Iteration 190: Cost 0.5589506035055375, Weight [ 0.5911664  -0.28259285  2.87990103  1.97959131], Bias -6.0806332017216755\n",
      "Iteration 191: Cost 0.5546422568096089, Weight [ 0.58953408 -0.28372107  2.87941815  1.97950738], Bias -6.080954235701477\n",
      "Iteration 192: Cost 0.5503708618606382, Weight [ 0.58790881 -0.28484441  2.87893731  1.97942377], Bias -6.08127387711438\n",
      "Iteration 193: Cost 0.5461362366204066, Weight [ 0.58629057 -0.28596289  2.87845849  1.97934049], Bias -6.0815921270729785\n",
      "Iteration 194: Cost 0.5419381956749733, Weight [ 0.58467937 -0.2870765   2.87798171  1.97925753], Bias -6.08190898682719\n",
      "Iteration 195: Cost 0.5377765503441975, Weight [ 0.58307518 -0.28818525  2.87750695  1.9791749 ], Bias -6.082224457762428\n",
      "Iteration 196: Cost 0.5336511087913105, Weight [ 0.58147802 -0.28928915  2.87703421  1.9790926 ], Bias -6.082538541397736\n",
      "Iteration 197: Cost 0.5295616761324339, Weight [ 0.57988787 -0.2903882   2.8765635   1.97901062], Bias -6.082851239383887\n",
      "Iteration 198: Cost 0.5255080545459444, Weight [ 0.57830472 -0.2914824   2.87609482  1.97892897], Bias -6.083162553501436\n",
      "Iteration 199: Cost 0.5214900433815859, Weight [ 0.57672856 -0.29257176  2.87562815  1.97884764], Bias -6.08347248565875\n",
      "Iteration 200: Cost 0.5175074392692306, Weight [ 0.57515939 -0.29365629  2.87516349  1.97876664], Bias -6.083781037889989\n",
      "Iteration 201: Cost 0.5135600362271986, Weight [ 0.57359719 -0.29473599  2.87470085  1.97868596], Bias -6.084088212353075\n",
      "Iteration 202: Cost 0.509647625770046, Weight [ 0.57204195 -0.29581088  2.87424022  1.97860561], Bias -6.084394011327619\n",
      "Iteration 203: Cost 0.5057699970157326, Weight [ 0.57049366 -0.29688096  2.8737816   1.97852558], Bias -6.08469843721283\n",
      "Iteration 204: Cost 0.5019269367920886, Weight [ 0.56895231 -0.29794624  2.87332499  1.97844587], Bias -6.085001492525392\n",
      "Iteration 205: Cost 0.4981182297425007, Weight [ 0.56741789 -0.29900673  2.87287037  1.97836649], Bias -6.085303179897334\n",
      "Iteration 206: Cost 0.494343658430735, Weight [ 0.56589038 -0.30006243  2.87241775  1.97828743], Bias -6.085603502073863\n",
      "Iteration 207: Cost 0.49060300344483115, Weight [ 0.56436977 -0.30111336  2.87196713  1.9782087 ], Bias -6.0859024619111945\n",
      "Iteration 208: Cost 0.4868960434999918, Weight [ 0.56285604 -0.30215953  2.8715185   1.97813028], Bias -6.086200062374358\n",
      "Iteration 209: Cost 0.4832225555404034, Weight [ 0.56134918 -0.30320094  2.87107185  1.97805219], Bias -6.086496306534997\n",
      "Iteration 210: Cost 0.47958231483992336, Weight [ 0.55984917 -0.30423761  2.87062718  1.97797442], Bias -6.086791197569152\n"
     ]
    },
    {
     "name": "stdout",
     "output_type": "stream",
     "text": [
      "Iteration 211: Cost 0.47597509510157265, Weight [ 0.558356   -0.30526956  2.8701845   1.97789697], Bias -6.0870847387550375\n",
      "Iteration 212: Cost 0.4724006685557829, Weight [ 0.55686965 -0.30629678  2.86974378  1.97781984], Bias -6.08737693347081\n",
      "Iteration 213: Cost 0.46885880605733526, Weight [ 0.5553901  -0.30731929  2.86930504  1.97774303], Bias -6.087667785192331\n",
      "Iteration 214: Cost 0.4653492771809485, Weight [ 0.55391734 -0.30833711  2.86886825  1.97766653], Bias -6.087957297490932\n",
      "Iteration 215: Cost 0.46187185031546457, Weight [ 0.55245135 -0.30935025  2.86843343  1.97759036], Bias -6.088245474031164\n",
      "Iteration 216: Cost 0.45842629275659313, Weight [ 0.55099211 -0.31035871  2.86800056  1.9775145 ], Bias -6.088532318568564\n",
      "Iteration 217: Cost 0.4550123707981676, Weight [ 0.5495396  -0.31136252  2.86756964  1.97743896], Bias -6.0888178349474105\n",
      "Iteration 218: Cost 0.4516298498218806, Weight [ 0.5480938  -0.31236169  2.86714066  1.97736374], Bias -6.089102027098486\n",
      "Iteration 219: Cost 0.4482784943854652, Weight [ 0.54665469 -0.31335623  2.86671362  1.97728883], Bias -6.089384899036847\n",
      "Iteration 220: Cost 0.4449580683092834, Weight [ 0.54522225 -0.31434614  2.86628851  1.97721424], Bias -6.089666454859596\n",
      "Iteration 221: Cost 0.4416683347613026, Weight [ 0.54379646 -0.31533146  2.86586533  1.97713996], Bias -6.089946698743664\n",
      "Iteration 222: Cost 0.4384090563404278, Weight [ 0.5423773  -0.31631219  2.86544406  1.97706599], Bias -6.090225634943603\n",
      "Iteration 223: Cost 0.43517999515817013, Weight [ 0.54096475 -0.31728835  2.86502472  1.97699234], Bias -6.0905032677893844\n",
      "Iteration 224: Cost 0.4319809129186308, Weight [ 0.53955878 -0.31825996  2.86460728  1.976919  ], Bias -6.090779601684214\n",
      "Iteration 225: Cost 0.4288115709967829, Weight [ 0.53815938 -0.31922702  2.86419174  1.97684597], Bias -6.091054641102358\n",
      "Iteration 226: Cost 0.4256717305150374, Weight [ 0.53676651 -0.32018955  2.8637781   1.97677325], Bias -6.091328390586982\n",
      "Iteration 227: Cost 0.42256115241808, Weight [ 0.53538017 -0.32114758  2.86336636  1.97670083], Bias -6.091600854748011\n",
      "Iteration 228: Cost 0.4194795975459678, Weight [ 0.53400032 -0.32210111  2.86295649  1.97662873], Bias -6.0918720382599965\n",
      "Iteration 229: Cost 0.4164268267054841, Weight [ 0.53262694 -0.32305016  2.8625485   1.97655693], Bias -6.092141945860011\n",
      "Iteration 230: Cost 0.4134026007397375, Weight [ 0.53126001 -0.32399476  2.86214238  1.97648544], Bias -6.092410582345551\n",
      "Iteration 231: Cost 0.41040668059601026, Weight [ 0.5298995  -0.32493491  2.86173813  1.97641426], Bias -6.092677952572473\n",
      "Iteration 232: Cost 0.40743882739185017, Weight [ 0.52854539 -0.32587063  2.86133573  1.97634338], Bias -6.092944061452931\n",
      "Iteration 233: Cost 0.40449880247940856, Weight [ 0.52719765 -0.32680194  2.86093518  1.9762728 ], Bias -6.093208913953356\n",
      "Iteration 234: Cost 0.4015863675080287, Weight [ 0.52585626 -0.32772886  2.86053648  1.97620252], Bias -6.093472515092444\n",
      "Iteration 235: Cost 0.39870128448508696, Weight [ 0.5245212  -0.3286514   2.86013961  1.97613255], Bias -6.093734869939164\n",
      "Iteration 236: Cost 0.3958433158350964, Weight [ 0.52319243 -0.32956959  2.85974457  1.97606288], Bias -6.093995983610805\n",
      "Iteration 237: Cost 0.39301222445707856, Weight [ 0.52186993 -0.33048344  2.85935135  1.9759935 ], Bias -6.094255861271031\n",
      "Iteration 238: Cost 0.39020777378021443, Weight [ 0.52055368 -0.33139296  2.85895995  1.97592443], Bias -6.094514508127971\n",
      "Iteration 239: Cost 0.3874297278177871, Weight [ 0.51924365 -0.33229818  2.85857035  1.97585565], Bias -6.094771929432326\n",
      "Iteration 240: Cost 0.3846778512194279, Weight [ 0.51793982 -0.33319912  2.85818255  1.97578717], Bias -6.095028130475511\n",
      "Iteration 241: Cost 0.3819519093216783, Weight [ 0.51664214 -0.33409579  2.85779655  1.97571898], Bias -6.095283116587815\n",
      "Iteration 242: Cost 0.379251668196889, Weight [ 0.51535061 -0.33498821  2.85741233  1.97565109], Bias -6.095536893136592\n",
      "Iteration 243: Cost 0.37657689470046646, Weight [ 0.51406519 -0.33587641  2.85702988  1.97558349], Bias -6.095789465524478\n",
      "Iteration 244: Cost 0.37392735651648795, Weight [ 0.51278586 -0.33676039  2.85664921  1.97551619], Bias -6.096040839187636\n",
      "Iteration 245: Cost 0.3713028222017047, Weight [ 0.51151258 -0.33764018  2.8562703   1.97544917], Bias -6.096291019594027\n",
      "Iteration 246: Cost 0.36870306122795027, Weight [ 0.51024533 -0.3385158   2.85589314  1.97538244], Bias -6.09654001224171\n",
      "Iteration 247: Cost 0.36612784402297954, Weight [ 0.50898409 -0.33938727  2.85551773  1.97531601], Bias -6.096787822657173\n",
      "Iteration 248: Cost 0.3635769420097528, Weight [ 0.50772881 -0.3402546   2.85514406  1.97524986], Bias -6.097034456393684\n",
      "Iteration 249: Cost 0.36105012764419625, Weight [ 0.50647949 -0.34111782  2.85477211  1.97518399], Bias -6.097279919029684\n",
      "Iteration 250: Cost 0.3585471744514541, Weight [ 0.50523608 -0.34197695  2.85440189  1.97511841], Bias -6.097524216167194\n",
      "Iteration 251: Cost 0.35606785706066063, Weight [ 0.50399857 -0.34283199  2.85403339  1.97505312], Bias -6.097767353430265\n",
      "Iteration 252: Cost 0.3536119512382544, Weight [ 0.50276691 -0.34368299  2.85366659  1.97498811], Bias -6.098009336463442\n",
      "Iteration 253: Cost 0.35117923391986294, Weight [ 0.50154109 -0.34452995  2.85330149  1.97492338], Bias -6.098250170930274\n",
      "Iteration 254: Cost 0.34876948324077683, Weight [ 0.50032107 -0.34537289  2.85293808  1.97485893], Bias -6.098489862511834\n",
      "Iteration 255: Cost 0.34638247856504656, Weight [ 0.49910683 -0.34621183  2.85257636  1.97479476], Bias -6.098728416905289\n",
      "Iteration 256: Cost 0.3440180005132213, Weight [ 0.49789834 -0.3470468   2.8522163   1.97473086], Bias -6.09896583982248\n",
      "Iteration 257: Cost 0.34167583098876175, Weight [ 0.49669556 -0.34787782  2.85185792  1.97466725], Bias -6.0992021369885405\n",
      "Iteration 258: Cost 0.3393557532031502, Weight [ 0.49549848 -0.34870489  2.85150119  1.97460391], Bias -6.099437314140548\n",
      "Iteration 259: Cost 0.33705755169972396, Weight [ 0.49430705 -0.34952805  2.85114612  1.97454084], Bias -6.099671377026192\n",
      "Iteration 260: Cost 0.3347810123762646, Weight [ 0.49312126 -0.35034732  2.85079268  1.97447805], Bias -6.099904331402483\n",
      "Iteration 261: Cost 0.3325259225063634, Weight [ 0.49194107 -0.3511627   2.85044088  1.97441553], Bias -6.100136183034479\n",
      "Iteration 262: Cost 0.3302920707595944, Weight [ 0.49076645 -0.35197424  2.85009071  1.97435328], Bias -6.100366937694052\n",
      "Iteration 263: Cost 0.32807924722052223, Weight [ 0.48959738 -0.35278193  2.84974215  1.9742913 ], Bias -6.100596601158674\n",
      "Iteration 264: Cost 0.3258872434065699, Weight [ 0.48843382 -0.35358581  2.8493952   1.97422959], Bias -6.100825179210235\n",
      "Iteration 265: Cost 0.3237158522847743, Weight [ 0.48727575 -0.3543859   2.84904986  1.97416814], Bias -6.101052677633884\n",
      "Iteration 266: Cost 0.3215648682874619, Weight [ 0.48612314 -0.35518221  2.8487061   1.97410697], Bias -6.101279102216909\n",
      "Iteration 267: Cost 0.31943408732686074, Weight [ 0.48497595 -0.35597476  2.84836393  1.97404605], Bias -6.101504458747628\n",
      "Iteration 268: Cost 0.31732330680868787, Weight [ 0.48383416 -0.35676358  2.84802334  1.9739854 ], Bias -6.101728753014324\n",
      "Iteration 269: Cost 0.31523232564472975, Weight [ 0.48269775 -0.35754868  2.84768431  1.97392501], Bias -6.101951990804195\n",
      "Iteration 270: Cost 0.3131609442644491, Weight [ 0.48156667 -0.3583301   2.84734685  1.97386488], Bias -6.102174177902332\n",
      "Iteration 271: Cost 0.3111089646256401, Weight [ 0.4804409  -0.35910783  2.84701093  1.97380502], Bias -6.102395320090732\n",
      "Iteration 272: Cost 0.3090761902241589, Weight [ 0.47932042 -0.35988191  2.84667656  1.97374541], Bias -6.102615423147327\n",
      "Iteration 273: Cost 0.3070624261027587, Weight [ 0.47820518 -0.36065236  2.84634372  1.97368605], Bias -6.102834492845044\n",
      "Iteration 274: Cost 0.3050674788590511, Weight [ 0.47709518 -0.3614192   2.84601241  1.97362696], Bias -6.103052534950889\n",
      "Iteration 275: Cost 0.30309115665262204, Weight [ 0.47599036 -0.36218244  2.84568262  1.97356811], Bias -6.103269555225055\n",
      "Iteration 276: Cost 0.3011332692113248, Weight [ 0.47489072 -0.36294211  2.84535434  1.97350953], Bias -6.10348555942006\n",
      "Iteration 277: Cost 0.2991936278367792, Weight [ 0.4737962  -0.36369822  2.84502756  1.97345119], Bias -6.103700553279899\n",
      "Iteration 278: Cost 0.2972720454090952, Weight [ 0.4727068  -0.3644508   2.84470228  1.9733931 ], Bias -6.1039145425392345\n"
     ]
    },
    {
     "name": "stdout",
     "output_type": "stream",
     "text": [
      "Iteration 279: Cost 0.29536833639085364, Weight [ 0.47162248 -0.36519987  2.84437848  1.97333527], Bias -6.104127532922598\n",
      "Iteration 280: Cost 0.29348231683035786, Weight [ 0.4705432  -0.36594544  2.84405615  1.97327768], Bias -6.104339530143621\n",
      "Iteration 281: Cost 0.2916138043641888, Weight [ 0.46946895 -0.36668755  2.8437353   1.97322034], Bias -6.104550539904289\n",
      "Iteration 282: Cost 0.28976261821908217, Weight [ 0.46839969 -0.36742619  2.84341591  1.97316324], Bias -6.104760567894217\n",
      "Iteration 283: Cost 0.28792857921314813, Weight [ 0.46733539 -0.36816141  2.84309797  1.97310639], Bias -6.104969619789945\n",
      "Iteration 284: Cost 0.2861115097564635, Weight [ 0.46627603 -0.36889321  2.84278147  1.97304979], Bias -6.105177701254265\n",
      "Iteration 285: Cost 0.2843112338510503, Weight [ 0.46522157 -0.36962162  2.84246641  1.97299342], Bias -6.105384817935555\n",
      "Iteration 286: Cost 0.28252757709026594, Weight [ 0.46417199 -0.37034665  2.84215278  1.9729373 ], Bias -6.105590975467147\n",
      "Iteration 287: Cost 0.2807603666576271, Weight [ 0.46312727 -0.37106833  2.84184057  1.97288141], Bias -6.105796179466711\n",
      "Iteration 288: Cost 0.2790094313250861, Weight [ 0.46208736 -0.37178667  2.84152978  1.97282577], Bias -6.1060004355356545\n",
      "Iteration 289: Cost 0.2772746014507796, Weight [ 0.46105225 -0.3725017   2.84122038  1.97277036], Bias -6.106203749258556\n",
      "Iteration 290: Cost 0.275555708976273, Weight [ 0.4600219  -0.37321343  2.84091239  1.97271518], Bias -6.106406126202603\n",
      "Iteration 291: Cost 0.273852587423315, Weight [ 0.45899629 -0.37392188  2.84060578  1.97266024], Bias -6.106607571917056\n",
      "Iteration 292: Cost 0.2721650718901251, Weight [ 0.45797538 -0.37462708  2.84030055  1.97260554], Bias -6.106808091932737\n",
      "Iteration 293: Cost 0.2704929990472326, Weight [ 0.45695916 -0.37532904  2.83999669  1.97255107], Bias -6.107007691761525\n",
      "Iteration 294: Cost 0.2688362071328827, Weight [ 0.45594759 -0.37602779  2.8396942   1.97249682], Bias -6.10720637689588\n",
      "Iteration 295: Cost 0.2671945359480283, Weight [ 0.45494065 -0.37672333  2.83939307  1.97244281], Bias -6.107404152808382\n",
      "Iteration 296: Cost 0.2655678268509287, Weight [ 0.45393831 -0.37741569  2.83909328  1.97238903], Bias -6.107601024951282\n",
      "Iteration 297: Cost 0.26395592275136615, Weight [ 0.45294053 -0.37810489  2.83879483  1.97233547], Bias -6.107796998756081\n",
      "Iteration 298: Cost 0.2623586681045009, Weight [ 0.4519473  -0.37879095  2.83849772  1.97228214], Bias -6.1079920796331155\n",
      "Iteration 299: Cost 0.2607759089043793, Weight [ 0.45095858 -0.37947389  2.83820193  1.97222903], Bias -6.1081862729711665\n",
      "Iteration 300: Cost 0.2592074926771117, Weight [ 0.44997436 -0.38015372  2.83790746  1.97217615], Bias -6.10837958413708\n",
      "Iteration 301: Cost 0.2576532684737337, Weight [ 0.44899459 -0.38083047  2.8376143   1.97212349], Bias -6.108572018475408\n",
      "Iteration 302: Cost 0.25611308686276757, Weight [ 0.44801926 -0.38150415  2.83732244  1.97207105], Bias -6.108763581308062\n",
      "Iteration 303: Cost 0.2545867999224981, Weight [ 0.44704834 -0.38217478  2.83703187  1.97201883], Bias -6.108954277933979\n",
      "Iteration 304: Cost 0.2530742612329748, Weight [ 0.4460818  -0.38284238  2.83674259  1.97196683], Bias -6.10914411362881\n",
      "Iteration 305: Cost 0.25157532586775644, Weight [ 0.44511961 -0.38350697  2.8364546   1.97191505], Bias -6.109333093644616\n",
      "Iteration 306: Cost 0.25008985038541354, Weight [ 0.44416175 -0.38416856  2.83616787  1.97186348], Bias -6.109521223209581\n",
      "Iteration 307: Cost 0.2486176928207934, Weight [ 0.44320819 -0.38482719  2.8358824   1.97181213], Bias -6.1097085075277375\n",
      "Iteration 308: Cost 0.24715871267607117, Weight [ 0.44225891 -0.38548285  2.83559819  1.97176099], Bias -6.109894951778709\n",
      "Iteration 309: Cost 0.24571277091159047, Weight [ 0.44131388 -0.38613558  2.83531523  1.97171007], Bias -6.11008056111746\n",
      "Iteration 310: Cost 0.24427972993651048, Weight [ 0.44037307 -0.38678538  2.83503352  1.97165936], Bias -6.110265340674063\n",
      "Iteration 311: Cost 0.24285945359926886, Weight [ 0.43943646 -0.38743228  2.83475303  1.97160885], Bias -6.110449295553479\n",
      "Iteration 312: Cost 0.24145180717787193, Weight [ 0.43850401 -0.3880763   2.83447378  1.97155856], Bias -6.110632430835343\n",
      "Iteration 313: Cost 0.2400566573700246, Weight [ 0.43757572 -0.38871745  2.83419574  1.97150848], Bias -6.110814751573774\n",
      "Iteration 314: Cost 0.23867387228310666, Weight [ 0.43665155 -0.38935575  2.83391891  1.9714586 ], Bias -6.110996262797183\n",
      "Iteration 315: Cost 0.23730332142401, Weight [ 0.43573147 -0.38999122  2.83364329  1.97140893], Bias -6.1111769695081\n",
      "Iteration 316: Cost 0.23594487568884484, Weight [ 0.43481546 -0.39062388  2.83336887  1.97135946], Bias -6.111356876683011\n",
      "Iteration 317: Cost 0.23459840735252324, Weight [ 0.4339035  -0.39125374  2.83309563  1.9713102 ], Bias -6.111535989272207\n",
      "Iteration 318: Cost 0.23326379005823067, Weight [ 0.43299555 -0.39188081  2.83282358  1.97126114], Bias -6.111714312199639\n",
      "Iteration 319: Cost 0.23194089880679442, Weight [ 0.4320916  -0.39250513  2.83255271  1.97121228], Bias -6.111891850362786\n",
      "Iteration 320: Cost 0.23062960994595594, Weight [ 0.43119162 -0.3931267   2.832283    1.97116362], Bias -6.112068608632538\n",
      "Iteration 321: Cost 0.22932980115955853, Weight [ 0.43029559 -0.39374554  2.83201446  1.97111516], Bias -6.1122445918530754\n",
      "Iteration 322: Cost 0.2280413514566548, Weight [ 0.42940348 -0.39436167  2.83174707  1.97106689], Bias -6.112419804841771\n",
      "Iteration 323: Cost 0.22676414116054444, Weight [ 0.42851527 -0.39497511  2.83148082  1.97101883], Bias -6.112594252389097\n",
      "Iteration 324: Cost 0.22549805189774702, Weight [ 0.42763093 -0.39558587  2.83121572  1.97097096], Bias -6.112767939258535\n",
      "Iteration 325: Cost 0.22424296658692167, Weight [ 0.42675043 -0.39619396  2.83095176  1.97092328], Bias -6.112940870186505\n",
      "Iteration 326: Cost 0.22299876942773356, Weight [ 0.42587377 -0.39679941  2.83068892  1.9708758 ], Bias -6.113113049882293\n",
      "Iteration 327: Cost 0.2217653458896824, Weight [ 0.4250009  -0.39740224  2.8304272   1.97082851], Bias -6.113284483027995\n",
      "Iteration 328: Cost 0.22054258270089022, Weight [ 0.42413181 -0.39800245  2.83016659  1.97078141], Bias -6.113455174278459\n",
      "Iteration 329: Cost 0.21933036783686366, Weight [ 0.42326648 -0.39860006  2.82990709  1.9707345 ], Bias -6.113625128261249\n",
      "Iteration 330: Cost 0.2181285905092296, Weight [ 0.42240487 -0.3991951   2.82964869  1.97068778], Bias -6.113794349576598\n",
      "Iteration 331: Cost 0.21693714115445312, Weight [ 0.42154698 -0.39978757  2.82939138  1.97064125], Bias -6.113962842797389\n",
      "Iteration 332: Cost 0.215755911422544, Weight [ 0.42069277 -0.4003775   2.82913516  1.97059491], Bias -6.114130612469125\n",
      "Iteration 333: Cost 0.21458479416575424, Weight [ 0.41984222 -0.40096489  2.82888002  1.97054875], Bias -6.114297663109913\n",
      "Iteration 334: Cost 0.21342368342727544, Weight [ 0.41899531 -0.40154977  2.82862596  1.97050278], Bias -6.11446399921046\n",
      "Iteration 335: Cost 0.21227247442993682, Weight [ 0.41815201 -0.40213215  2.82837296  1.97045699], Bias -6.114629625234064\n",
      "Iteration 336: Cost 0.211131063564911, Weight [ 0.41731231 -0.40271204  2.82812102  1.97041138], Bias -6.114794545616623\n",
      "Iteration 337: Cost 0.209999348380433, Weight [ 0.41647618 -0.40328946  2.82787013  1.97036596], Bias -6.114958764766638\n",
      "Iteration 338: Cost 0.20887722757053345, Weight [ 0.4156436  -0.40386444  2.82762029  1.97032072], Bias -6.115122287065234\n",
      "Iteration 339: Cost 0.20776460096379304, Weight [ 0.41481455 -0.40443697  2.82737149  1.97027565], Bias -6.115285116866177\n",
      "Iteration 340: Cost 0.20666136951212186, Weight [ 0.413989   -0.40500708  2.82712373  1.97023077], Bias -6.1154472584959\n",
      "Iteration 341: Cost 0.205567435279564, Weight [ 0.41316693 -0.40557478  2.826877    1.97018606], Bias -6.1156087162535355\n",
      "Iteration 342: Cost 0.20448270143113625, Weight [ 0.41234833 -0.40614009  2.82663129  1.97014153], Bias -6.115769494410952\n",
      "Iteration 343: Cost 0.20340707222170118, Weight [ 0.41153316 -0.40670302  2.82638659  1.97009717], Bias -6.115929597212795\n",
      "Iteration 344: Cost 0.20234045298487716, Weight [ 0.41072142 -0.40726358  2.82614291  1.97005299], Bias -6.116089028876532\n",
      "Iteration 345: Cost 0.201282750121991, Weight [ 0.40991307 -0.4078218   2.82590022  1.97000899], Bias -6.116247793592504\n",
      "Iteration 346: Cost 0.20023387109107366, Weight [ 0.4091081  -0.40837769  2.82565854  1.96996515], Bias -6.1164058955239815\n",
      "Iteration 347: Cost 0.19919372439590458, Weight [ 0.40830648 -0.40893125  2.82541785  1.96992149], Bias -6.116563338807221\n"
     ]
    },
    {
     "name": "stdout",
     "output_type": "stream",
     "text": [
      "Iteration 348: Cost 0.19816221957510413, Weight [ 0.4075082  -0.40948251  2.82517814  1.969878  ], Bias -6.116720127551529\n",
      "Iteration 349: Cost 0.1971392671912792, Weight [ 0.40671323 -0.41003149  2.82493941  1.96983467], Bias -6.116876265839332\n",
      "Iteration 350: Cost 0.1961247788202233, Weight [ 0.40592155 -0.41057818  2.82470166  1.96979152], Bias -6.117031757726246\n",
      "Iteration 351: Cost 0.19511866704017347, Weight [ 0.40513314 -0.41112261  2.82446487  1.96974854], Bias -6.117186607241148\n",
      "Iteration 352: Cost 0.19412084542112693, Weight [ 0.40434799 -0.4116648   2.82422905  1.96970572], Bias -6.1173408183862605\n",
      "Iteration 353: Cost 0.19313122851421752, Weight [ 0.40356607 -0.41220475  2.82399418  1.96966306], Bias -6.117494395137227\n",
      "Iteration 354: Cost 0.19214973184115736, Weight [ 0.40278736 -0.41274248  2.82376026  1.96962058], Bias -6.117647341443201\n",
      "Iteration 355: Cost 0.19117627188374123, Weight [ 0.40201184 -0.413278    2.82352728  1.96957825], Bias -6.1177996612269325\n",
      "Iteration 356: Cost 0.19021076607341897, Weight [ 0.4012395  -0.41381133  2.82329525  1.96953609], Bias -6.11795135838486\n",
      "Iteration 357: Cost 0.1892531327809355, Weight [ 0.40047031 -0.41434249  2.82306414  1.96949409], Bias -6.118102436787203\n",
      "Iteration 358: Cost 0.18830329130604115, Weight [ 0.39970425 -0.41487148  2.82283397  1.96945226], Bias -6.11825290027806\n",
      "Iteration 359: Cost 0.1873611618672723, Weight [ 0.3989413  -0.41539831  2.82260471  1.96941058], Bias -6.1184027526755065\n",
      "Iteration 360: Cost 0.18642666559180535, Weight [ 0.39818145 -0.41592301  2.82237637  1.96936906], Bias -6.118551997771698\n",
      "Iteration 361: Cost 0.18549972450538357, Weight [ 0.39742467 -0.41644558  2.82214894  1.9693277 ], Bias -6.118700639332976\n",
      "Iteration 362: Cost 0.1845802615223192, Weight [ 0.39667095 -0.41696604  2.82192242  1.9692865 ], Bias -6.118848681099971\n",
      "Iteration 363: Cost 0.18366820043557158, Weight [ 0.39592026 -0.4174844   2.8216968   1.96924546], Bias -6.118996126787713\n",
      "Iteration 364: Cost 0.18276346590690168, Weight [ 0.39517259 -0.41800068  2.82147207  1.96920457], Bias -6.119142980085744\n",
      "Iteration 365: Cost 0.18186598345710533, Weight [ 0.39442793 -0.41851488  2.82124823  1.96916383], Bias -6.119289244658231\n",
      "Iteration 366: Cost 0.18097567945632298, Weight [ 0.39368624 -0.41902702  2.82102527  1.96912325], Bias -6.119434924144077\n",
      "Iteration 367: Cost 0.18009248111443132, Weight [ 0.39294752 -0.41953711  2.82080319  1.96908283], Bias -6.119580022157042\n",
      "Iteration 368: Cost 0.17921631647151373, Weight [ 0.39221174 -0.42004517  2.82058198  1.96904255], Bias -6.119724542285862\n",
      "Iteration 369: Cost 0.1783471143884105, Weight [ 0.39147889 -0.42055121  2.82036164  1.96900243], Bias -6.119868488094365\n",
      "Iteration 370: Cost 0.17748480453735188, Weight [ 0.39074895 -0.42105523  2.82014216  1.96896246], Bias -6.120011863121597\n",
      "Iteration 371: Cost 0.17662931739267154, Weight [ 0.39002189 -0.42155726  2.81992354  1.96892263], Bias -6.120154670881944\n",
      "Iteration 372: Cost 0.17578058422160245, Weight [ 0.38929771 -0.4220573   2.81970577  1.96888296], Bias -6.120296914865254\n",
      "Iteration 373: Cost 0.1749385370751565, Weight [ 0.38857639 -0.42255537  2.81948885  1.96884344], Bias -6.120438598536969\n",
      "Iteration 374: Cost 0.17410310877908425, Weight [ 0.3878579  -0.42305148  2.81927277  1.96880406], Bias -6.120579725338247\n",
      "Iteration 375: Cost 0.17327423292492025, Weight [ 0.38714224 -0.42354564  2.81905753  1.96876482], Bias -6.12072029868609\n",
      "Iteration 376: Cost 0.17245184386111118, Weight [ 0.38642937 -0.42403786  2.81884312  1.96872574], Bias -6.120860321973479\n",
      "Iteration 377: Cost 0.17163587668422517, Weight [ 0.38571929 -0.42452816  2.81862953  1.9686868 ], Bias -6.120999798569503\n",
      "Iteration 378: Cost 0.1708262672302483, Weight [ 0.38501199 -0.42501654  2.81841677  1.968648  ], Bias -6.121138731819486\n",
      "Iteration 379: Cost 0.17002295206596219, Weight [ 0.38430743 -0.42550303  2.81820482  1.96860934], Bias -6.121277125045123\n",
      "Iteration 380: Cost 0.1692258684804064, Weight [ 0.38360561 -0.42598762  2.81799368  1.96857083], Bias -6.121414981544614\n",
      "Iteration 381: Cost 0.1684349544764236, Weight [ 0.38290651 -0.42647033  2.81778336  1.96853246], Bias -6.1215523045927975\n",
      "Iteration 382: Cost 0.1676501487622896, Weight [ 0.38221011 -0.42695118  2.81757383  1.96849423], Bias -6.121689097441285\n",
      "Iteration 383: Cost 0.16687139074342594, Weight [ 0.38151639 -0.42743017  2.8173651   1.96845614], Bias -6.121825363318597\n",
      "Iteration 384: Cost 0.16609862051419727, Weight [ 0.38082534 -0.42790732  2.81715716  1.96841819], Bias -6.121961105430297\n",
      "Iteration 385: Cost 0.16533177884979, Weight [ 0.38013695 -0.42838263  2.81695002  1.96838037], Bias -6.1220963269591335\n",
      "Iteration 386: Cost 0.16457080719817596, Weight [ 0.3794512  -0.42885612  2.81674365  1.9683427 ], Bias -6.122231031065171\n",
      "Iteration 387: Cost 0.16381564767215862, Weight [ 0.37876806 -0.4293278   2.81653806  1.96830516], Bias -6.122365220885932\n",
      "Iteration 388: Cost 0.16306624304150105, Weight [ 0.37808753 -0.42979768  2.81633325  1.96826776], Bias -6.122498899536533\n",
      "Iteration 389: Cost 0.16232253672513783, Weight [ 0.37740959 -0.43026577  2.81612921  1.96823049], Bias -6.122632070109823\n",
      "Iteration 390: Cost 0.16158447278346744, Weight [ 0.37673423 -0.43073208  2.81592593  1.96819336], Bias -6.122764735676525\n",
      "Iteration 391: Cost 0.1608519959107284, Weight [ 0.37606142 -0.43119663  2.81572341  1.96815636], Bias -6.122896899285371\n",
      "Iteration 392: Cost 0.16012505142745492, Weight [ 0.37539116 -0.43165941  2.81552165  1.96811949], Bias -6.123028563963244\n",
      "Iteration 393: Cost 0.15940358527301562, Weight [ 0.37472342 -0.43212046  2.81532064  1.96808276], Bias -6.123159732715314\n",
      "Iteration 394: Cost 0.15868754399823176, Weight [ 0.3740582  -0.43257976  2.81512038  1.96804615], Bias -6.123290408525185\n",
      "Iteration 395: Cost 0.15797687475807534, Weight [ 0.37339547 -0.43303734  2.81492086  1.96800968], Bias -6.123420594355025\n",
      "Iteration 396: Cost 0.1572715253044498, Weight [ 0.37273523 -0.43349321  2.81472208  1.96797334], Bias -6.123550293145712\n",
      "Iteration 397: Cost 0.15657144397904654, Weight [ 0.37207745 -0.43394737  2.81452403  1.96793713], Bias -6.123679507816973\n",
      "Iteration 398: Cost 0.15587657970628374, Weight [ 0.37142213 -0.43439983  2.81432671  1.96790104], Bias -6.12380824126752\n",
      "Iteration 399: Cost 0.15518688198632163, Weight [ 0.37076924 -0.43485061  2.81413012  1.96786509], Bias -6.1239364963751965\n",
      "Iteration 400: Cost 0.15450230088815692, Weight [ 0.37011878 -0.43529972  2.81393425  1.96782926], Bias -6.124064275997111\n",
      "Iteration 401: Cost 0.1538227870427943, Weight [ 0.36947073 -0.43574716  2.81373909  1.96779356], Bias -6.124191582969778\n",
      "Iteration 402: Cost 0.15314829163649601, Weight [ 0.36882507 -0.43619295  2.81354465  1.96775798], Bias -6.124318420109259\n",
      "Iteration 403: Cost 0.15247876640410568, Weight [ 0.36818179 -0.43663709  2.81335091  1.96772253], Bias -6.1244447902113\n",
      "Iteration 404: Cost 0.15181416362245143, Weight [ 0.36754088 -0.4370796   2.81315788  1.9676872 ], Bias -6.124570696051472\n",
      "Iteration 405: Cost 0.15115443610382184, Weight [ 0.36690232 -0.43752048  2.81296556  1.967652  ], Bias -6.124696140385307\n",
      "Iteration 406: Cost 0.15049953718951756, Weight [ 0.3662661  -0.43795975  2.81277392  1.96761692], Bias -6.12482112594844\n",
      "Iteration 407: Cost 0.14984942074347815, Weight [ 0.36563221 -0.43839741  2.81258298  1.96758196], Bias -6.124945655456745\n",
      "Iteration 408: Cost 0.14920404114598088, Weight [ 0.36500063 -0.43883348  2.81239273  1.96754713], Bias -6.125069731606474\n",
      "Iteration 409: Cost 0.14856335328741507, Weight [ 0.36437134 -0.43926795  2.81220316  1.96751241], Bias -6.125193357074393\n",
      "Iteration 410: Cost 0.14792731256212674, Weight [ 0.36374434 -0.43970085  2.81201427  1.96747782], Bias -6.1253165345179195\n",
      "Iteration 411: Cost 0.14729587486233708, Weight [ 0.36311961 -0.44013219  2.81182606  1.96744334], Bias -6.125439266575263\n",
      "Iteration 412: Cost 0.1466689965721305, Weight [ 0.36249713 -0.44056196  2.81163852  1.96740899], Bias -6.125561555865557\n",
      "Iteration 413: Cost 0.14604663456151565, Weight [ 0.3618769  -0.44099018  2.81145165  1.96737475], Bias -6.1256834049889965\n",
      "Iteration 414: Cost 0.14542874618055449, Weight [ 0.3612589  -0.44141686  2.81126545  1.96734063], Bias -6.125804816526974\n"
     ]
    },
    {
     "name": "stdout",
     "output_type": "stream",
     "text": [
      "Iteration 415: Cost 0.14481528925356227, Weight [ 0.36064312 -0.44184202  2.8110799   1.96730663], Bias -6.125925793042214\n",
      "Iteration 416: Cost 0.14420622207337572, Weight [ 0.36002954 -0.44226564  2.81089502  1.96727274], Bias -6.126046337078909\n",
      "Iteration 417: Cost 0.14360150339569033, Weight [ 0.35941815 -0.44268776  2.81071078  1.96723898], Bias -6.126166451162854\n",
      "Iteration 418: Cost 0.14300109243346426, Weight [ 0.35880895 -0.44310837  2.8105272   1.96720532], Bias -6.126286137801578\n",
      "Iteration 419: Cost 0.14240494885139016, Weight [ 0.35820191 -0.44352748  2.81034426  1.96717178], Bias -6.126405399484476\n",
      "Iteration 420: Cost 0.1418130327604329, Weight [ 0.35759702 -0.4439451   2.81016197  1.96713835], Bias -6.126524238682948\n",
      "Iteration 421: Cost 0.14122530471243347, Weight [ 0.35699427 -0.44436125  2.80998031  1.96710504], Bias -6.1266426578505255\n",
      "Iteration 422: Cost 0.14064172569477731, Weight [ 0.35639366 -0.44477592  2.80979929  1.96707184], Bias -6.126760659423005\n",
      "Iteration 423: Cost 0.14006225712512785, Weight [ 0.35579516 -0.44518914  2.8096189   1.96703875], Bias -6.126878245818579\n",
      "Iteration 424: Cost 0.1394868608462241, Weight [ 0.35519876 -0.4456009   2.80943913  1.96700578], Bias -6.126995419437966\n",
      "Iteration 425: Cost 0.13891549912074, Weight [ 0.35460446 -0.44601121  2.80925999  1.96697291], Bias -6.12711218266454\n",
      "Iteration 426: Cost 0.13834813462620854, Weight [ 0.35401224 -0.44642009  2.80908148  1.96694016], Bias -6.12722853786446\n",
      "Iteration 427: Cost 0.13778473045000575, Weight [ 0.35342208 -0.44682754  2.80890358  1.96690751], Bias -6.127344487386802\n",
      "Iteration 428: Cost 0.13722525008439673, Weight [ 0.35283398 -0.44723357  2.80872629  1.96687498], Bias -6.127460033563679\n",
      "Iteration 429: Cost 0.136669657421644, Weight [ 0.35224793 -0.44763819  2.80854961  1.96684255], Bias -6.127575178710377\n",
      "Iteration 430: Cost 0.1361179167491723, Weight [ 0.35166391 -0.4480414   2.80837354  1.96681023], Bias -6.127689925125477\n",
      "Iteration 431: Cost 0.13556999274479642, Weight [ 0.35108191 -0.44844322  2.80819808  1.96677802], Bias -6.1278042750909805\n",
      "Iteration 432: Cost 0.13502585047200555, Weight [ 0.35050192 -0.44884365  2.80802321  1.96674591], Bias -6.127918230872438\n",
      "Iteration 433: Cost 0.13448545537530662, Weight [ 0.34992393 -0.4492427   2.80784894  1.96671391], Bias -6.12803179471907\n",
      "Iteration 434: Cost 0.13394877327562482, Weight [ 0.34934792 -0.44964038  2.80767527  1.96668202], Bias -6.128144968863896\n",
      "Iteration 435: Cost 0.13341577036576177, Weight [ 0.34877389 -0.45003669  2.80750218  1.96665023], Bias -6.128257755523851\n",
      "Iteration 436: Cost 0.13288641320590813, Weight [ 0.34820183 -0.45043165  2.80732968  1.96661855], Bias -6.128370156899916\n",
      "Iteration 437: Cost 0.13236066871921445, Weight [ 0.34763172 -0.45082526  2.80715777  1.96658697], Bias -6.128482175177232\n",
      "Iteration 438: Cost 0.13183850418741444, Weight [ 0.34706355 -0.45121753  2.80698643  1.9665555 ], Bias -6.128593812525228\n",
      "Iteration 439: Cost 0.13131988724650462, Weight [ 0.34649731 -0.45160846  2.80681567  1.96652412], Bias -6.128705071097738\n",
      "Iteration 440: Cost 0.13080478588247677, Weight [ 0.34593299 -0.45199807  2.80664549  1.96649285], Bias -6.128815953033122\n",
      "Iteration 441: Cost 0.13029316842710328, Weight [ 0.34537058 -0.45238636  2.80647588  1.96646168], Bias -6.128926460454383\n",
      "Iteration 442: Cost 0.12978500355377662, Weight [ 0.34481007 -0.45277333  2.80630683  1.96643062], Bias -6.129036595469288\n",
      "Iteration 443: Cost 0.1292802602733986, Weight [ 0.34425145 -0.45315901  2.80613835  1.96639965], Bias -6.129146360170485\n",
      "Iteration 444: Cost 0.12877890793032273, Weight [ 0.34369471 -0.45354339  2.80597043  1.96636878], Bias -6.12925575663562\n"
     ]
    }
   ],
   "source": [
    "estimated_weight, estimated_bias,costs = gradient_descent(X_train, y_train, iterations=1000)"
   ]
  },
  {
   "cell_type": "markdown",
   "id": "2fc8f2f2",
   "metadata": {},
   "source": [
    "**5.4.1 Giá trị weights và bias**"
   ]
  },
  {
   "cell_type": "code",
   "execution_count": 68,
   "id": "a4e4cd36",
   "metadata": {},
   "outputs": [
    {
     "name": "stdout",
     "output_type": "stream",
     "text": [
      "Coefficients:  [ 0.34369471 -0.45354339  2.80597043  1.96636878]\n",
      "Intercept:  -6.12925575663562\n"
     ]
    }
   ],
   "source": [
    "print(\"Coefficients: \", estimated_weight)\n",
    "print(\"Intercept: \", estimated_bias)"
   ]
  },
  {
   "cell_type": "markdown",
   "id": "8efd91a9",
   "metadata": {},
   "source": [
    "**5.4.2 Đồ thị giá trị cost function sau mỗi lần lặp:**"
   ]
  },
  {
   "cell_type": "code",
   "execution_count": 61,
   "id": "da33eae0",
   "metadata": {},
   "outputs": [
    {
     "data": {
      "image/png": "[encoded data removed]",
      "text/plain": [
       "<Figure size 432x288 with 1 Axes>"
      ]
     },
     "metadata": {
      "needs_background": "light"
     },
     "output_type": "display_data"
    }
   ],
   "source": [
    "u=len(costs)\n",
    "plt.plot(np.arange(u)+1,costs)\n",
    "plt.xlabel('Iterations')\n",
    "plt.ylabel('Cost')\n",
    "plt.title('Cost function')\n",
    "plt.show()"
   ]
  },
  {
   "cell_type": "markdown",
   "id": "7c75f5ba",
   "metadata": {},
   "source": [
    "Ta có thể dễ dạng nhận thấy hàm chi phí giảm sau mỗi lần lặp. Như vậy, chứng tỏ việc triển khai gradient descent là khá tốt."
   ]
  },
  {
   "cell_type": "markdown",
   "id": "399c3273",
   "metadata": {},
   "source": [
    "### 5.5 Prediction"
   ]
  },
  {
   "cell_type": "code",
   "execution_count": 65,
   "id": "3de42a6c",
   "metadata": {},
   "outputs": [],
   "source": [
    "temp=output(X_test,estimated_weight, estimated_bias)\n",
    "y_pred=np.zeros(25)\n",
    "y_pred[temp>=0.5]=1\n",
    "y_pred[temp<0.5]=0"
   ]
  },
  {
   "cell_type": "markdown",
   "id": "2b63b2c9",
   "metadata": {},
   "source": [
    "### 5.6 Độ chính xác:"
   ]
  },
  {
   "cell_type": "code",
   "execution_count": 66,
   "id": "6da16d60",
   "metadata": {},
   "outputs": [],
   "source": [
    "from sklearn.metrics import accuracy_score"
   ]
  },
  {
   "cell_type": "code",
   "execution_count": 67,
   "id": "3d72a0c1",
   "metadata": {},
   "outputs": [
    {
     "name": "stdout",
     "output_type": "stream",
     "text": [
      "Accuracy: 1.0\n"
     ]
    }
   ],
   "source": [
    "acc = accuracy_score(y_test, y_pred)\n",
    "# print the accuracy\n",
    "print(\"Accuracy:\", acc)"
   ]
  },
  {
   "cell_type": "markdown",
   "id": "efb8a367",
   "metadata": {},
   "source": [
    "## 6. Trainning and testing(Dùng thư viện)"
   ]
  },
  {
   "cell_type": "code",
   "execution_count": 70,
   "id": "05ae15a9",
   "metadata": {},
   "outputs": [
    {
     "name": "stdout",
     "output_type": "stream",
     "text": [
      "Coefficients:  [[ 0.38155012 -0.85429437  2.1505416   0.9075502 ]]\n",
      "Intercept:  [-6.01514557]\n"
     ]
    }
   ],
   "source": [
    "from sklearn.linear_model import LogisticRegression\n",
    "log_reg = LogisticRegression()\n",
    "log_reg.fit(X_train, y_train)\n",
    "print(\"Coefficients: \", log_reg.coef_)\n",
    "print(\"Intercept: \", log_reg.intercept_)"
   ]
  },
  {
   "cell_type": "markdown",
   "id": "b64d67b0",
   "metadata": {},
   "source": [
    "### Prediction"
   ]
  },
  {
   "cell_type": "code",
   "execution_count": 72,
   "id": "1d97a77e",
   "metadata": {},
   "outputs": [],
   "source": [
    "y_pred=log_reg.predict(X_test)"
   ]
  },
  {
   "cell_type": "markdown",
   "id": "10d6c175",
   "metadata": {},
   "source": [
    "### Độ chính xác:"
   ]
  },
  {
   "cell_type": "code",
   "execution_count": 73,
   "id": "c3649fef",
   "metadata": {},
   "outputs": [
    {
     "name": "stdout",
     "output_type": "stream",
     "text": [
      "Accuracy: 1.0\n"
     ]
    }
   ],
   "source": [
    "acc = accuracy_score(y_test, y_pred)\n",
    "# print the accuracy\n",
    "print(\"Accuracy:\", acc)"
   ]
  }
 ],
 "metadata": {
  "kernelspec": {
   "display_name": "Python 3 (ipykernel)",
   "language": "python",
   "name": "python3"
  },
  "language_info": {
   "codemirror_mode": {
    "name": "ipython",
    "version": 3
   },
   "file_extension": ".py",
   "mimetype": "text/x-python",
   "name": "python",
   "nbconvert_exporter": "python",
   "pygments_lexer": "ipython3",
   "version": "3.9.12"
  }
 },
 "nbformat": 4,
 "nbformat_minor": 5
}
